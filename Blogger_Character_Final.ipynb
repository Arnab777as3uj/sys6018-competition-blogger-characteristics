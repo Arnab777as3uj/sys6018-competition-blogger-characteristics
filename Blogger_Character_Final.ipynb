{
 "cells": [
  {
   "cell_type": "code",
   "execution_count": 177,
   "metadata": {},
   "outputs": [],
   "source": [
    "import pandas as pd\n",
    "import numpy as np\n",
    "import matplotlib.pyplot as plt\n",
    "import re\n",
    "\n",
    "import nltk\n",
    "from nltk.corpus import stopwords\n",
    "from textblob import TextBlob\n",
    "import string\n",
    "from nltk.stem.porter import PorterStemmer\n",
    "from textblob import Word\n",
    "\n",
    "from sklearn.feature_extraction.text import TfidfVectorizer\n",
    "from sklearn.feature_extraction.text import CountVectorizer\n",
    "from sklearn.feature_extraction.text import TfidfTransformer\n",
    "from sklearn.linear_model import LinearRegression\n",
    "from sklearn.model_selection import train_test_split\n",
    "from sklearn.metrics import mean_squared_error\n",
    "\n",
    "import math\n",
    "\n",
    "from scipy.sparse import hstack"
   ]
  },
  {
   "cell_type": "markdown",
   "metadata": {},
   "source": [
    "# Data Pre-processing"
   ]
  },
  {
   "cell_type": "code",
   "execution_count": 178,
   "metadata": {},
   "outputs": [],
   "source": [
    "def pre_process_df(df):\n",
    "    df[\"gender\"] = df[\"gender\"].astype('category')\n",
    "    df[\"topic\"] = df[\"topic\"].astype('category')\n",
    "    df[\"sign\"] = df[\"sign\"].astype('category')\n",
    "\n",
    "    df[\"gender_cat\"] = df[\"gender\"].cat.codes\n",
    "    df[\"topic_cat\"] = df[\"topic\"].cat.codes\n",
    "    df[\"sign_cat\"] = df[\"sign\"].cat.codes\n",
    "\n",
    "def get_word_count(df):\n",
    "    df['word_count'] = df['text'].apply(lambda x: len(str(x).split(\" \")))\n",
    "    "
   ]
  },
  {
   "cell_type": "code",
   "execution_count": 179,
   "metadata": {},
   "outputs": [],
   "source": [
    "train = pd.read_csv('./data/train.csv')\n",
    "test = pd.read_csv('./data/test.csv')"
   ]
  },
  {
   "cell_type": "code",
   "execution_count": 180,
   "metadata": {},
   "outputs": [],
   "source": [
    "pre_process_df(train)\n",
    "pre_process_df(test)\n",
    "get_word_count(train)\n",
    "get_word_count(test)"
   ]
  },
  {
   "cell_type": "markdown",
   "metadata": {},
   "source": [
    "## Data Processing on the Text Column"
   ]
  },
  {
   "cell_type": "markdown",
   "metadata": {},
   "source": [
    "## Grouping the data by USER ID\n",
    "### (found no change in gender,age, or topic across user.id at time of collecting data)"
   ]
  },
  {
   "cell_type": "code",
   "execution_count": 210,
   "metadata": {},
   "outputs": [],
   "source": [
    "def remove_spaces_from_text_col(df):\n",
    "    \n",
    "    # remove duplicate spaces\n",
    "    df['text'] = df['text'].apply(lambda x: re.sub(' +', ' ',str(x)))\n",
    "    # strip spaces around the sentence string\n",
    "    df['text'] = df['text'].apply(lambda x: str(x).strip())\n",
    "\n",
    "\n",
    "def group_by_user_id_col(df):\n",
    "    # group by user id and get all the categorical variables\n",
    "    cat = df.groupby(['user.id'])['topic','gender', 'sign','topic_cat','gender_cat', 'sign_cat' ].first()\n",
    "    cat.columns = ['topic','gender', 'sign','topic_cat','gender_cat', 'sign_cat' ]\n",
    "    \n",
    "    # group by user id and get all text written by the user\n",
    "    text = df.groupby(['user.id'])['text'].apply(lambda x:' '.join(x))\n",
    "    \n",
    "    # check for age column and get the age of each user\n",
    "    if 'age' in df.columns:\n",
    "        age = df.groupby(['user.id'])['age'].agg(np.average)\n",
    "        \n",
    "    return cat, text\n",
    "\n",
    "def feature_creation(df):\n",
    "    # get the total word count for each user\n",
    "    tot_word_count = df.groupby(['user.id'])['word_count'].agg(np.sum)\n",
    "    tot_word_count.name = 'tot_word_count'\n",
    "    \n",
    "    # get average word count for each user\n",
    "    avg_word_count = df.groupby(['user.id'])['word_count'].agg(np.average)\n",
    "    avg_word_count.name = 'avg_word_count'\n",
    "    \n",
    "    # get the number of posts by each user\n",
    "    num_of_text = df.groupby(['user.id'])['user.id'].agg(['count'])\n",
    "    num_of_text.columns = ['num_of_text']\n",
    "    \n",
    "    return tot_word_count, avg_word_count, num_of_text\n",
    "\n",
    "def create_final_df(feature_dfs): # pass list of feature data frames created; returns concatenated data frame\n",
    "    \n",
    "    final_df = pd.concat(feature_dfs, axis=1)\n",
    "    final_df = final_df.reset_index()\n",
    "    \n",
    "    return final_df\n",
    "        "
   ]
  },
  {
   "cell_type": "code",
   "execution_count": 192,
   "metadata": {},
   "outputs": [],
   "source": [
    "remove_spaces_from_text_col(train)\n",
    "cat, text, age = group_by_user_id_col(train)\n",
    "tot_word_count, avg_word_count, num_of_text = feature_creation(train)\n",
    "final_df = create_final_df([cat, text, age, tot_word_count, avg_word_count, num_of_text])"
   ]
  },
  {
   "cell_type": "code",
   "execution_count": 193,
   "metadata": {},
   "outputs": [
    {
     "data": {
      "text/html": [
       "<div>\n",
       "<style scoped>\n",
       "    .dataframe tbody tr th:only-of-type {\n",
       "        vertical-align: middle;\n",
       "    }\n",
       "\n",
       "    .dataframe tbody tr th {\n",
       "        vertical-align: top;\n",
       "    }\n",
       "\n",
       "    .dataframe thead th {\n",
       "        text-align: right;\n",
       "    }\n",
       "</style>\n",
       "<table border=\"1\" class=\"dataframe\">\n",
       "  <thead>\n",
       "    <tr style=\"text-align: right;\">\n",
       "      <th></th>\n",
       "      <th>user.id</th>\n",
       "      <th>topic</th>\n",
       "      <th>gender</th>\n",
       "      <th>sign</th>\n",
       "      <th>topic_cat</th>\n",
       "      <th>gender_cat</th>\n",
       "      <th>sign_cat</th>\n",
       "      <th>text</th>\n",
       "      <th>age</th>\n",
       "      <th>tot_word_count</th>\n",
       "      <th>avg_word_count</th>\n",
       "      <th>num_of_text</th>\n",
       "    </tr>\n",
       "  </thead>\n",
       "  <tbody>\n",
       "    <tr>\n",
       "      <th>0</th>\n",
       "      <td>1</td>\n",
       "      <td>indUnk</td>\n",
       "      <td>male</td>\n",
       "      <td>Sagittarius</td>\n",
       "      <td>39</td>\n",
       "      <td>1</td>\n",
       "      <td>8</td>\n",
       "      <td>Doritos Fuel of Space urlLink : Ian Myers NASA...</td>\n",
       "      <td>17</td>\n",
       "      <td>2384</td>\n",
       "      <td>76.903226</td>\n",
       "      <td>31</td>\n",
       "    </tr>\n",
       "    <tr>\n",
       "      <th>1</th>\n",
       "      <td>3</td>\n",
       "      <td>indUnk</td>\n",
       "      <td>female</td>\n",
       "      <td>Leo</td>\n",
       "      <td>39</td>\n",
       "      <td>0</td>\n",
       "      <td>5</td>\n",
       "      <td>Yeah, I set up this blog so Heather would be h...</td>\n",
       "      <td>16</td>\n",
       "      <td>1643</td>\n",
       "      <td>205.375000</td>\n",
       "      <td>8</td>\n",
       "    </tr>\n",
       "    <tr>\n",
       "      <th>2</th>\n",
       "      <td>4</td>\n",
       "      <td>Student</td>\n",
       "      <td>male</td>\n",
       "      <td>Aquarius</td>\n",
       "      <td>34</td>\n",
       "      <td>1</td>\n",
       "      <td>0</td>\n",
       "      <td>Not too much exciting has happened this weeken...</td>\n",
       "      <td>17</td>\n",
       "      <td>535</td>\n",
       "      <td>535.000000</td>\n",
       "      <td>1</td>\n",
       "    </tr>\n",
       "    <tr>\n",
       "      <th>3</th>\n",
       "      <td>5</td>\n",
       "      <td>Accounting</td>\n",
       "      <td>female</td>\n",
       "      <td>Pisces</td>\n",
       "      <td>0</td>\n",
       "      <td>0</td>\n",
       "      <td>7</td>\n",
       "      <td>European Pilgrimage For High school Students o...</td>\n",
       "      <td>47</td>\n",
       "      <td>9931</td>\n",
       "      <td>451.409091</td>\n",
       "      <td>22</td>\n",
       "    </tr>\n",
       "    <tr>\n",
       "      <th>4</th>\n",
       "      <td>6</td>\n",
       "      <td>Student</td>\n",
       "      <td>male</td>\n",
       "      <td>Pisces</td>\n",
       "      <td>34</td>\n",
       "      <td>1</td>\n",
       "      <td>7</td>\n",
       "      <td>Last night's dream is very blurry. The only de...</td>\n",
       "      <td>16</td>\n",
       "      <td>125684</td>\n",
       "      <td>189.854985</td>\n",
       "      <td>662</td>\n",
       "    </tr>\n",
       "  </tbody>\n",
       "</table>\n",
       "</div>"
      ],
      "text/plain": [
       "   user.id       topic  gender         sign  topic_cat  gender_cat  sign_cat  \\\n",
       "0        1      indUnk    male  Sagittarius         39           1         8   \n",
       "1        3      indUnk  female          Leo         39           0         5   \n",
       "2        4     Student    male     Aquarius         34           1         0   \n",
       "3        5  Accounting  female       Pisces          0           0         7   \n",
       "4        6     Student    male       Pisces         34           1         7   \n",
       "\n",
       "                                                text  age  tot_word_count  \\\n",
       "0  Doritos Fuel of Space urlLink : Ian Myers NASA...   17            2384   \n",
       "1  Yeah, I set up this blog so Heather would be h...   16            1643   \n",
       "2  Not too much exciting has happened this weeken...   17             535   \n",
       "3  European Pilgrimage For High school Students o...   47            9931   \n",
       "4  Last night's dream is very blurry. The only de...   16          125684   \n",
       "\n",
       "   avg_word_count  num_of_text  \n",
       "0       76.903226           31  \n",
       "1      205.375000            8  \n",
       "2      535.000000            1  \n",
       "3      451.409091           22  \n",
       "4      189.854985          662  "
      ]
     },
     "execution_count": 193,
     "metadata": {},
     "output_type": "execute_result"
    }
   ],
   "source": [
    "final_df.head()"
   ]
  },
  {
   "cell_type": "markdown",
   "metadata": {},
   "source": [
    "# Exploring the data\n",
    "\n",
    "### Gender Division"
   ]
  },
  {
   "cell_type": "code",
   "execution_count": 195,
   "metadata": {},
   "outputs": [
    {
     "data": {
      "image/png": "[encoded data removed]",
      "text/plain": [
       "<Figure size 432x288 with 1 Axes>"
      ]
     },
     "metadata": {
      "needs_background": "light"
     },
     "output_type": "display_data"
    }
   ],
   "source": [
    "# train.groupby(['user.id'])['gender'].value_counts().plot(kind='barh')\n",
    "final_df['gender'].value_counts().plot(kind='barh')\n",
    "plt.show()"
   ]
  },
  {
   "cell_type": "markdown",
   "metadata": {},
   "source": [
    "### Top 10 Topics by Frequency"
   ]
  },
  {
   "cell_type": "code",
   "execution_count": 196,
   "metadata": {},
   "outputs": [
    {
     "data": {
      "image/png": "[encoded data removed]",
      "text/plain": [
       "<Figure size 432x288 with 1 Axes>"
      ]
     },
     "metadata": {
      "needs_background": "light"
     },
     "output_type": "display_data"
    }
   ],
   "source": [
    "final_df['topic'].value_counts()[:10].plot(kind='bar')\n",
    "plt.show()"
   ]
  },
  {
   "cell_type": "markdown",
   "metadata": {},
   "source": [
    "### Distribution of Signs"
   ]
  },
  {
   "cell_type": "code",
   "execution_count": 197,
   "metadata": {},
   "outputs": [
    {
     "data": {
      "image/png": "[encoded data removed]",
      "text/plain": [
       "<Figure size 432x288 with 1 Axes>"
      ]
     },
     "metadata": {
      "needs_background": "light"
     },
     "output_type": "display_data"
    }
   ],
   "source": [
    "final_df['sign'].value_counts()[:10].plot(kind='bar')\n",
    "plt.show()"
   ]
  },
  {
   "cell_type": "markdown",
   "metadata": {},
   "source": [
    "# Working with the text column grouped data frame\n",
    "## Removing stop words and punctuation"
   ]
  },
  {
   "cell_type": "code",
   "execution_count": 198,
   "metadata": {},
   "outputs": [],
   "source": [
    "def text_processing(df):\n",
    "    # get stop words from NLTK\n",
    "    stop = stopwords.words('english')\n",
    "    \n",
    "    # remove stop words from the text\n",
    "    df['text_processed'] = df['text'].apply(lambda x : \" \".join(x for x in x.split() if x not in stop))\n",
    "\n",
    "    # removing punctuation \n",
    "    df['text_processed'] = df['text_processed'].str.replace('[^\\w\\s]','')\n",
    "    \n",
    "    # ignore case\n",
    "    df['text_processed'] = df['text_processed'].str.lower()\n",
    "    \n",
    "    # count number of numerical values in the text\n",
    "    df['numerics'] = df['text_processed'].apply(lambda x: len([x for x in x.split() if x.isdigit()]))\n",
    "    \n",
    "    # remove numbers from the text\n",
    "    df['text_processed'] = df['text_processed'].str.replace('\\d+', '')\n",
    "    \n",
    "    # get word roots\n",
    "    df['text_processed'] = df['text_processed'].apply(lambda x: \" \".join([Word(word).lemmatize() for word in x.split()]))\n",
    "    \n",
    "    return df\n"
   ]
  },
  {
   "cell_type": "code",
   "execution_count": 199,
   "metadata": {},
   "outputs": [],
   "source": [
    "final_df = text_processing(final_df)"
   ]
  },
  {
   "cell_type": "code",
   "execution_count": 200,
   "metadata": {},
   "outputs": [
    {
     "data": {
      "text/html": [
       "<div>\n",
       "<style scoped>\n",
       "    .dataframe tbody tr th:only-of-type {\n",
       "        vertical-align: middle;\n",
       "    }\n",
       "\n",
       "    .dataframe tbody tr th {\n",
       "        vertical-align: top;\n",
       "    }\n",
       "\n",
       "    .dataframe thead th {\n",
       "        text-align: right;\n",
       "    }\n",
       "</style>\n",
       "<table border=\"1\" class=\"dataframe\">\n",
       "  <thead>\n",
       "    <tr style=\"text-align: right;\">\n",
       "      <th></th>\n",
       "      <th>user.id</th>\n",
       "      <th>topic</th>\n",
       "      <th>gender</th>\n",
       "      <th>sign</th>\n",
       "      <th>topic_cat</th>\n",
       "      <th>gender_cat</th>\n",
       "      <th>sign_cat</th>\n",
       "      <th>text</th>\n",
       "      <th>age</th>\n",
       "      <th>tot_word_count</th>\n",
       "      <th>avg_word_count</th>\n",
       "      <th>num_of_text</th>\n",
       "      <th>text_processed</th>\n",
       "      <th>numerics</th>\n",
       "    </tr>\n",
       "  </thead>\n",
       "  <tbody>\n",
       "    <tr>\n",
       "      <th>0</th>\n",
       "      <td>1</td>\n",
       "      <td>indUnk</td>\n",
       "      <td>male</td>\n",
       "      <td>Sagittarius</td>\n",
       "      <td>39</td>\n",
       "      <td>1</td>\n",
       "      <td>8</td>\n",
       "      <td>Doritos Fuel of Space urlLink : Ian Myers NASA...</td>\n",
       "      <td>17</td>\n",
       "      <td>2384</td>\n",
       "      <td>76.903226</td>\n",
       "      <td>31</td>\n",
       "      <td>doritos fuel space urllink ian myers nasa new ...</td>\n",
       "      <td>14</td>\n",
       "    </tr>\n",
       "    <tr>\n",
       "      <th>1</th>\n",
       "      <td>3</td>\n",
       "      <td>indUnk</td>\n",
       "      <td>female</td>\n",
       "      <td>Leo</td>\n",
       "      <td>39</td>\n",
       "      <td>0</td>\n",
       "      <td>5</td>\n",
       "      <td>Yeah, I set up this blog so Heather would be h...</td>\n",
       "      <td>16</td>\n",
       "      <td>1643</td>\n",
       "      <td>205.375000</td>\n",
       "      <td>8</td>\n",
       "      <td>yeah i set blog heather would happyshe better ...</td>\n",
       "      <td>14</td>\n",
       "    </tr>\n",
       "    <tr>\n",
       "      <th>2</th>\n",
       "      <td>4</td>\n",
       "      <td>Student</td>\n",
       "      <td>male</td>\n",
       "      <td>Aquarius</td>\n",
       "      <td>34</td>\n",
       "      <td>1</td>\n",
       "      <td>0</td>\n",
       "      <td>Not too much exciting has happened this weeken...</td>\n",
       "      <td>17</td>\n",
       "      <td>535</td>\n",
       "      <td>535.000000</td>\n",
       "      <td>1</td>\n",
       "      <td>not much exciting happened weekend ive really ...</td>\n",
       "      <td>5</td>\n",
       "    </tr>\n",
       "    <tr>\n",
       "      <th>3</th>\n",
       "      <td>5</td>\n",
       "      <td>Accounting</td>\n",
       "      <td>female</td>\n",
       "      <td>Pisces</td>\n",
       "      <td>0</td>\n",
       "      <td>0</td>\n",
       "      <td>7</td>\n",
       "      <td>European Pilgrimage For High school Students o...</td>\n",
       "      <td>47</td>\n",
       "      <td>9931</td>\n",
       "      <td>451.409091</td>\n",
       "      <td>22</td>\n",
       "      <td>european pilgrimage for high school student st...</td>\n",
       "      <td>67</td>\n",
       "    </tr>\n",
       "    <tr>\n",
       "      <th>4</th>\n",
       "      <td>6</td>\n",
       "      <td>Student</td>\n",
       "      <td>male</td>\n",
       "      <td>Pisces</td>\n",
       "      <td>34</td>\n",
       "      <td>1</td>\n",
       "      <td>7</td>\n",
       "      <td>Last night's dream is very blurry. The only de...</td>\n",
       "      <td>16</td>\n",
       "      <td>125684</td>\n",
       "      <td>189.854985</td>\n",
       "      <td>662</td>\n",
       "      <td>last night dream blurry the detail i remember ...</td>\n",
       "      <td>963</td>\n",
       "    </tr>\n",
       "  </tbody>\n",
       "</table>\n",
       "</div>"
      ],
      "text/plain": [
       "   user.id       topic  gender         sign  topic_cat  gender_cat  sign_cat  \\\n",
       "0        1      indUnk    male  Sagittarius         39           1         8   \n",
       "1        3      indUnk  female          Leo         39           0         5   \n",
       "2        4     Student    male     Aquarius         34           1         0   \n",
       "3        5  Accounting  female       Pisces          0           0         7   \n",
       "4        6     Student    male       Pisces         34           1         7   \n",
       "\n",
       "                                                text  age  tot_word_count  \\\n",
       "0  Doritos Fuel of Space urlLink : Ian Myers NASA...   17            2384   \n",
       "1  Yeah, I set up this blog so Heather would be h...   16            1643   \n",
       "2  Not too much exciting has happened this weeken...   17             535   \n",
       "3  European Pilgrimage For High school Students o...   47            9931   \n",
       "4  Last night's dream is very blurry. The only de...   16          125684   \n",
       "\n",
       "   avg_word_count  num_of_text  \\\n",
       "0       76.903226           31   \n",
       "1      205.375000            8   \n",
       "2      535.000000            1   \n",
       "3      451.409091           22   \n",
       "4      189.854985          662   \n",
       "\n",
       "                                      text_processed  numerics  \n",
       "0  doritos fuel space urllink ian myers nasa new ...        14  \n",
       "1  yeah i set blog heather would happyshe better ...        14  \n",
       "2  not much exciting happened weekend ive really ...         5  \n",
       "3  european pilgrimage for high school student st...        67  \n",
       "4  last night dream blurry the detail i remember ...       963  "
      ]
     },
     "execution_count": 200,
     "metadata": {},
     "output_type": "execute_result"
    }
   ],
   "source": [
    "final_df.head()"
   ]
  },
  {
   "cell_type": "code",
   "execution_count": 13,
   "metadata": {},
   "outputs": [],
   "source": [
    "final_df.to_csv('./final_df.csv')"
   ]
  },
  {
   "cell_type": "markdown",
   "metadata": {},
   "source": [
    "# Extracting TF-IDF from the text data"
   ]
  },
  {
   "cell_type": "code",
   "execution_count": 201,
   "metadata": {},
   "outputs": [],
   "source": [
    "# extract tf_idf for 1000 words with highest tf-idf values across all documents\n",
    "vectorizer = TfidfVectorizer(min_df=5, max_features=1000)\n",
    "X_tfidf = vectorizer.fit_transform(final_df['text_processed']) "
   ]
  },
  {
   "cell_type": "code",
   "execution_count": 203,
   "metadata": {},
   "outputs": [],
   "source": [
    "# extract the features created on the final training dataframe\n",
    "X_feature = final_df[['topic_cat', 'avg_word_count','num_of_text', 'numerics']]\n",
    "# stack the tf-idf and other features together\n",
    "X = hstack([X_tfidf,X_feature.values])\n",
    "# get the outcome variable from the data frame\n",
    "y = final_df.age\n",
    "\n",
    "X"
   ]
  },
  {
   "cell_type": "markdown",
   "metadata": {},
   "source": [
    "## Making the model"
   ]
  },
  {
   "cell_type": "code",
   "execution_count": 66,
   "metadata": {},
   "outputs": [],
   "source": [
    "# split the data into 80 percent train and 20 percent test\n",
    "X_train, X_test, y_train, y_test = train_test_split(X, y, test_size=0.20, random_state=4200)"
   ]
  },
  {
   "cell_type": "code",
   "execution_count": 127,
   "metadata": {},
   "outputs": [
    {
     "data": {
      "text/plain": [
       "LinearRegression(copy_X=True, fit_intercept=True, n_jobs=1, normalize=True)"
      ]
     },
     "execution_count": 127,
     "metadata": {},
     "output_type": "execute_result"
    }
   ],
   "source": [
    "# make a linear regression model\n",
    "linreg = LinearRegression(normalize=True)\n",
    "\n",
    "linreg.fit(X, y)"
   ]
  },
  {
   "cell_type": "code",
   "execution_count": 113,
   "metadata": {},
   "outputs": [
    {
     "data": {
      "text/plain": [
       "<12880x10004 sparse matrix of type '<class 'numpy.float64'>'\n",
       "\twith 11279197 stored elements in COOrdinate format>"
      ]
     },
     "execution_count": 113,
     "metadata": {},
     "output_type": "execute_result"
    }
   ],
   "source": [
    "X"
   ]
  },
  {
   "cell_type": "markdown",
   "metadata": {},
   "source": [
    "## Making predictions"
   ]
  },
  {
   "cell_type": "code",
   "execution_count": 207,
   "metadata": {},
   "outputs": [],
   "source": [
    "# # remove duplicate spaces\n",
    "# test['text'] = test['text'].apply(lambda x: re.sub(' +', ' ',str(x)))\n",
    "# # strip spaces around the sentence string\n",
    "# test['text'] = test['text'].apply(lambda x: str(x).strip())\n",
    "# # get the word count for each blog\n",
    "# test['word_count'] = test['text'].apply(lambda x: len(str(x).split(\" \")))"
   ]
  },
  {
   "cell_type": "code",
   "execution_count": 212,
   "metadata": {},
   "outputs": [],
   "source": [
    "remove_spaces_from_text_col(test)\n",
    "cat, text = group_by_user_id_col(test)\n",
    "tot_word_count, avg_word_count, num_of_text = feature_creation(test)\n",
    "test_df = create_final_df([cat, text, tot_word_count, avg_word_count, num_of_text])"
   ]
  },
  {
   "cell_type": "code",
   "execution_count": 214,
   "metadata": {},
   "outputs": [],
   "source": [
    "test_df = text_processing(test_df)"
   ]
  },
  {
   "cell_type": "code",
   "execution_count": 216,
   "metadata": {},
   "outputs": [
    {
     "data": {
      "text/html": [
       "<div>\n",
       "<style scoped>\n",
       "    .dataframe tbody tr th:only-of-type {\n",
       "        vertical-align: middle;\n",
       "    }\n",
       "\n",
       "    .dataframe tbody tr th {\n",
       "        vertical-align: top;\n",
       "    }\n",
       "\n",
       "    .dataframe thead th {\n",
       "        text-align: right;\n",
       "    }\n",
       "</style>\n",
       "<table border=\"1\" class=\"dataframe\">\n",
       "  <thead>\n",
       "    <tr style=\"text-align: right;\">\n",
       "      <th></th>\n",
       "      <th>user.id</th>\n",
       "      <th>topic</th>\n",
       "      <th>gender</th>\n",
       "      <th>sign</th>\n",
       "      <th>topic_cat</th>\n",
       "      <th>gender_cat</th>\n",
       "      <th>sign_cat</th>\n",
       "      <th>text</th>\n",
       "      <th>tot_word_count</th>\n",
       "      <th>avg_word_count</th>\n",
       "      <th>num_of_text</th>\n",
       "      <th>text_processed</th>\n",
       "      <th>numerics</th>\n",
       "    </tr>\n",
       "  </thead>\n",
       "  <tbody>\n",
       "    <tr>\n",
       "      <th>0</th>\n",
       "      <td>2</td>\n",
       "      <td>Military</td>\n",
       "      <td>male</td>\n",
       "      <td>Taurus</td>\n",
       "      <td>26</td>\n",
       "      <td>1</td>\n",
       "      <td>10</td>\n",
       "      <td>I finally saw Nathan's tattoo tonight. I like ...</td>\n",
       "      <td>833</td>\n",
       "      <td>119.000000</td>\n",
       "      <td>7</td>\n",
       "      <td>i finally saw nathans tattoo tonight i like it...</td>\n",
       "      <td>6</td>\n",
       "    </tr>\n",
       "    <tr>\n",
       "      <th>1</th>\n",
       "      <td>8</td>\n",
       "      <td>indUnk</td>\n",
       "      <td>male</td>\n",
       "      <td>Aquarius</td>\n",
       "      <td>39</td>\n",
       "      <td>1</td>\n",
       "      <td>0</td>\n",
       "      <td>Today was the last day and the shortest. We ha...</td>\n",
       "      <td>11790</td>\n",
       "      <td>170.869565</td>\n",
       "      <td>69</td>\n",
       "      <td>today last day shortest we one session lasted ...</td>\n",
       "      <td>147</td>\n",
       "    </tr>\n",
       "    <tr>\n",
       "      <th>2</th>\n",
       "      <td>9</td>\n",
       "      <td>Arts</td>\n",
       "      <td>female</td>\n",
       "      <td>Taurus</td>\n",
       "      <td>4</td>\n",
       "      <td>0</td>\n",
       "      <td>10</td>\n",
       "      <td>What the hell am I doing on the internet? Its ...</td>\n",
       "      <td>136937</td>\n",
       "      <td>379.326870</td>\n",
       "      <td>361</td>\n",
       "      <td>what hell i internet it am song exactly where ...</td>\n",
       "      <td>508</td>\n",
       "    </tr>\n",
       "    <tr>\n",
       "      <th>3</th>\n",
       "      <td>10</td>\n",
       "      <td>indUnk</td>\n",
       "      <td>male</td>\n",
       "      <td>Pisces</td>\n",
       "      <td>39</td>\n",
       "      <td>1</td>\n",
       "      <td>7</td>\n",
       "      <td>the hotel&amp;nbsp; urlLink urlLink the thrid &amp; wi...</td>\n",
       "      <td>4688</td>\n",
       "      <td>213.090909</td>\n",
       "      <td>22</td>\n",
       "      <td>hotelnbsp urllink urllink thrid winning goalnb...</td>\n",
       "      <td>37</td>\n",
       "    </tr>\n",
       "    <tr>\n",
       "      <th>4</th>\n",
       "      <td>11</td>\n",
       "      <td>RealEstate</td>\n",
       "      <td>female</td>\n",
       "      <td>Virgo</td>\n",
       "      <td>30</td>\n",
       "      <td>0</td>\n",
       "      <td>11</td>\n",
       "      <td>Last night I received message from a friend in...</td>\n",
       "      <td>1098</td>\n",
       "      <td>274.500000</td>\n",
       "      <td>4</td>\n",
       "      <td>last night i received message friend minnesota...</td>\n",
       "      <td>2</td>\n",
       "    </tr>\n",
       "  </tbody>\n",
       "</table>\n",
       "</div>"
      ],
      "text/plain": [
       "   user.id       topic  gender      sign  topic_cat  gender_cat  sign_cat  \\\n",
       "0        2    Military    male    Taurus         26           1        10   \n",
       "1        8      indUnk    male  Aquarius         39           1         0   \n",
       "2        9        Arts  female    Taurus          4           0        10   \n",
       "3       10      indUnk    male    Pisces         39           1         7   \n",
       "4       11  RealEstate  female     Virgo         30           0        11   \n",
       "\n",
       "                                                text  tot_word_count  \\\n",
       "0  I finally saw Nathan's tattoo tonight. I like ...             833   \n",
       "1  Today was the last day and the shortest. We ha...           11790   \n",
       "2  What the hell am I doing on the internet? Its ...          136937   \n",
       "3  the hotel&nbsp; urlLink urlLink the thrid & wi...            4688   \n",
       "4  Last night I received message from a friend in...            1098   \n",
       "\n",
       "   avg_word_count  num_of_text  \\\n",
       "0      119.000000            7   \n",
       "1      170.869565           69   \n",
       "2      379.326870          361   \n",
       "3      213.090909           22   \n",
       "4      274.500000            4   \n",
       "\n",
       "                                      text_processed  numerics  \n",
       "0  i finally saw nathans tattoo tonight i like it...         6  \n",
       "1  today last day shortest we one session lasted ...       147  \n",
       "2  what hell i internet it am song exactly where ...       508  \n",
       "3  hotelnbsp urllink urllink thrid winning goalnb...        37  \n",
       "4  last night i received message friend minnesota...         2  "
      ]
     },
     "execution_count": 216,
     "metadata": {},
     "output_type": "execute_result"
    }
   ],
   "source": [
    "test_df.head()"
   ]
  },
  {
   "cell_type": "code",
   "execution_count": 217,
   "metadata": {},
   "outputs": [],
   "source": [
    "# get the tf-idf of the same vocabulary of words learnt while fitting\n",
    "X_test = vectorizer.transform(test_df['text_processed'])\n",
    "# get the same feature from the test data as from the train data set\n",
    "X_test_cat = test_df[['topic_cat', 'avg_word_count','num_of_text', 'numerics']]\n",
    "# stack the tf-idf and extracted features together\n",
    "X_test_mat = hstack([X_test,X_test_cat.values])"
   ]
  },
  {
   "cell_type": "code",
   "execution_count": 218,
   "metadata": {},
   "outputs": [
    {
     "data": {
      "text/plain": [
       "<6440x1004 sparse matrix of type '<class 'numpy.float64'>'\n",
       "\twith 2469709 stored elements in COOrdinate format>"
      ]
     },
     "execution_count": 218,
     "metadata": {},
     "output_type": "execute_result"
    }
   ],
   "source": [
    "X_test_mat"
   ]
  },
  {
   "cell_type": "code",
   "execution_count": 219,
   "metadata": {},
   "outputs": [],
   "source": [
    "# predict on the test data\n",
    "y_pred_test = linreg.predict(X_test_mat)"
   ]
  },
  {
   "cell_type": "code",
   "execution_count": 220,
   "metadata": {},
   "outputs": [],
   "source": [
    "# write predictions to file\n",
    "y_pred_test = pd.Series(y_pred_test)\n",
    "predictions = pd.concat([test_df['user.id'], y_pred_test], axis=1)\n",
    "predictions.columns = ['user.id','age']\n",
    "predictions.age = np.floor(predictions.age)\n",
    "predictions.to_csv('./predictions_text_test.csv', index=False)"
   ]
  }
 ],
 "metadata": {
  "kernelspec": {
   "display_name": "Python 3",
   "language": "python",
   "name": "python3"
  },
  "language_info": {
   "codemirror_mode": {
    "name": "ipython",
    "version": 3
   },
   "file_extension": ".py",
   "mimetype": "text/x-python",
   "name": "python",
   "nbconvert_exporter": "python",
   "pygments_lexer": "ipython3",
   "version": "3.6.6"
  }
 },
 "nbformat": 4,
 "nbformat_minor": 2
}
