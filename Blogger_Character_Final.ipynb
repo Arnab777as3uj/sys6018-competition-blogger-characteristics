{
 "cells": [
  {
   "cell_type": "code",
   "execution_count": 1,
   "metadata": {},
   "outputs": [],
   "source": [
    "import pandas as pd\n",
    "import numpy as np\n",
    "import matplotlib.pyplot as plt\n",
    "import re\n",
    "\n",
    "import nltk\n",
    "from nltk.corpus import stopwords\n",
    "from textblob import TextBlob\n",
    "import string\n",
    "from nltk.stem.porter import PorterStemmer\n",
    "from textblob import Word\n",
    "\n",
    "from sklearn.feature_extraction.text import TfidfVectorizer\n",
    "from sklearn.feature_extraction.text import CountVectorizer\n",
    "from sklearn.feature_extraction.text import TfidfTransformer\n",
    "from sklearn.linear_model import LinearRegression\n",
    "from sklearn.kernel_ridge import KernelRidge\n",
    "from sklearn.model_selection import train_test_split\n",
    "from sklearn.metrics import mean_squared_error\n",
    "from sklearn.metrics import mean_absolute_error\n",
    "\n",
    "import math\n",
    "\n",
    "from scipy.sparse import hstack\n",
    "from sklearn.model_selection import KFold"
   ]
  },
  {
   "cell_type": "markdown",
   "metadata": {},
   "source": [
    "# Data Pre-processing"
   ]
  },
  {
   "cell_type": "code",
   "execution_count": 2,
   "metadata": {},
   "outputs": [],
   "source": [
    "def pre_process_df(df):\n",
    "    df[\"gender\"] = df[\"gender\"].astype('category')\n",
    "    df[\"topic\"] = df[\"topic\"].astype('category')\n",
    "    df[\"sign\"] = df[\"sign\"].astype('category')\n",
    "\n",
    "    df[\"gender_cat\"] = df[\"gender\"].cat.codes\n",
    "    df[\"topic_cat\"] = df[\"topic\"].cat.codes\n",
    "    df[\"sign_cat\"] = df[\"sign\"].cat.codes\n",
    "    \n",
    "    df[\"gender_cat\"] = df[\"gender_cat\"].astype('category')\n",
    "    df[\"topic_cat\"] = df[\"topic_cat\"].astype('category')\n",
    "    df[\"sign_cat\"] = df[\"sign_cat\"].astype('category')\n",
    "\n",
    "def get_word_count(df):\n",
    "    df['word_count'] = df['text'].apply(lambda x: len(str(x).split(\" \")))\n",
    "    "
   ]
  },
  {
   "cell_type": "code",
   "execution_count": 3,
   "metadata": {},
   "outputs": [],
   "source": [
    "train = pd.read_csv('./data/train.csv')\n",
    "test = pd.read_csv('./data/test.csv')"
   ]
  },
  {
   "cell_type": "code",
   "execution_count": 4,
   "metadata": {},
   "outputs": [
    {
     "name": "stdout",
     "output_type": "stream",
     "text": [
      "<class 'pandas.core.frame.DataFrame'>\n",
      "RangeIndex: 442961 entries, 0 to 442960\n",
      "Data columns (total 8 columns):\n",
      "post.id    442961 non-null int64\n",
      "user.id    442961 non-null int64\n",
      "gender     442961 non-null object\n",
      "topic      442961 non-null object\n",
      "sign       442961 non-null object\n",
      "date       442961 non-null object\n",
      "text       442961 non-null object\n",
      "age        442961 non-null int64\n",
      "dtypes: int64(3), object(5)\n",
      "memory usage: 27.0+ MB\n"
     ]
    }
   ],
   "source": [
    "train.info()"
   ]
  },
  {
   "cell_type": "code",
   "execution_count": 5,
   "metadata": {},
   "outputs": [],
   "source": [
    "pre_process_df(train)\n",
    "pre_process_df(test)\n",
    "get_word_count(train)\n",
    "get_word_count(test)"
   ]
  },
  {
   "cell_type": "markdown",
   "metadata": {},
   "source": [
    "## Data Processing on the Text Column"
   ]
  },
  {
   "cell_type": "markdown",
   "metadata": {},
   "source": [
    "## Grouping the data by USER ID\n",
    "### (found no change in gender,age, or topic across user.id at time of collecting data)"
   ]
  },
  {
   "cell_type": "code",
   "execution_count": 84,
   "metadata": {},
   "outputs": [],
   "source": [
    "def remove_spaces_from_text_col(df):\n",
    "    \n",
    "    # replace &nbsp; or Non-Breaking spaces with normal spaces\n",
    "#     df['text'] = df['text'].apply(lambda x: re.sub('&nbsp;', ' ',str(x)))\n",
    "    # remove duplicate spaces\n",
    "    df['text'] = df['text'].apply(lambda x: re.sub(' +', ' ',str(x)))\n",
    "    # strip spaces around the sentence string\n",
    "    df['text'] = df['text'].apply(lambda x: str(x).strip())\n",
    "\n",
    "\n",
    "def group_by_user_id_col(df):\n",
    "    # group by user id and get all the categorical variables\n",
    "    cat = df.groupby(['user.id'])['topic','gender', 'sign','topic_cat','gender_cat', 'sign_cat' ].first()\n",
    "    cat.columns = ['topic','gender', 'sign','topic_cat','gender_cat', 'sign_cat' ]\n",
    "    \n",
    "    # group by user id and get all text written by the user\n",
    "    text = df.groupby(['user.id'])['text'].apply(lambda x:' '.join(x))\n",
    "    \n",
    "    # check for age column and get the age of each user\n",
    "    if 'age' in df.columns:\n",
    "        age = df.groupby(['user.id'])['age'].agg(np.average)\n",
    "        return cat, text, age\n",
    "        \n",
    "    return cat, text\n",
    "\n",
    "def feature_creation(df):\n",
    "    # get the total word count for each user\n",
    "    tot_word_count = df.groupby(['user.id'])['word_count'].agg(np.sum)\n",
    "    tot_word_count.name = 'tot_word_count'\n",
    "    \n",
    "    # get average word count for each user\n",
    "    avg_word_count = df.groupby(['user.id'])['word_count'].agg(np.average)\n",
    "    avg_word_count.name = 'avg_word_count'\n",
    "    \n",
    "    # get the number of posts by each user\n",
    "    num_of_text = df.groupby(['user.id'])['user.id'].agg(['count'])\n",
    "    num_of_text.columns = ['num_of_text']\n",
    "    \n",
    "    return tot_word_count, avg_word_count, num_of_text\n",
    "\n",
    "def create_final_df(feature_dfs): # pass list of feature data frames created; returns concatenated data frame\n",
    "    \n",
    "    final_df = pd.concat(feature_dfs, axis=1)\n",
    "    final_df = final_df.reset_index()\n",
    "    \n",
    "    return final_df\n",
    "        "
   ]
  },
  {
   "cell_type": "code",
   "execution_count": 85,
   "metadata": {},
   "outputs": [],
   "source": [
    "remove_spaces_from_text_col(train)\n",
    "cat, text, age = group_by_user_id_col(train)\n",
    "tot_word_count, avg_word_count, num_of_text = feature_creation(train)\n",
    "final_df = create_final_df([cat, text, age, tot_word_count, avg_word_count, num_of_text])"
   ]
  },
  {
   "cell_type": "code",
   "execution_count": 67,
   "metadata": {},
   "outputs": [],
   "source": [
    "final_df[\"gender_cat\"] = final_df[\"gender_cat\"].astype('category')\n",
    "final_df[\"topic_cat\"] = final_df[\"topic_cat\"].astype('category')\n",
    "final_df[\"sign_cat\"] = final_df[\"sign_cat\"].astype('category')"
   ]
  },
  {
   "cell_type": "code",
   "execution_count": 68,
   "metadata": {},
   "outputs": [
    {
     "name": "stdout",
     "output_type": "stream",
     "text": [
      "<class 'pandas.core.frame.DataFrame'>\n",
      "RangeIndex: 12880 entries, 0 to 12879\n",
      "Data columns (total 12 columns):\n",
      "user.id           12880 non-null int64\n",
      "topic             12880 non-null object\n",
      "gender            12880 non-null object\n",
      "sign              12880 non-null object\n",
      "topic_cat         12880 non-null category\n",
      "gender_cat        12880 non-null category\n",
      "sign_cat          12880 non-null category\n",
      "text              12880 non-null object\n",
      "age               12880 non-null int64\n",
      "tot_word_count    12880 non-null int64\n",
      "avg_word_count    12880 non-null float64\n",
      "num_of_text       12880 non-null int64\n",
      "dtypes: category(3), float64(1), int64(4), object(4)\n",
      "memory usage: 945.5+ KB\n"
     ]
    }
   ],
   "source": [
    "final_df.info()"
   ]
  },
  {
   "cell_type": "markdown",
   "metadata": {},
   "source": [
    "# Exploring the data\n",
    "\n",
    "### Gender Division"
   ]
  },
  {
   "cell_type": "code",
   "execution_count": 69,
   "metadata": {},
   "outputs": [
    {
     "data": {
      "image/png": "[encoded data removed]",
      "text/plain": [
       "<Figure size 432x288 with 1 Axes>"
      ]
     },
     "metadata": {
      "needs_background": "light"
     },
     "output_type": "display_data"
    }
   ],
   "source": [
    "# train.groupby(['user.id'])['gender'].value_counts().plot(kind='barh')\n",
    "final_df['gender'].value_counts().plot(kind='barh')\n",
    "plt.show()"
   ]
  },
  {
   "cell_type": "markdown",
   "metadata": {},
   "source": [
    "### Top 10 Topics by Frequency"
   ]
  },
  {
   "cell_type": "code",
   "execution_count": 11,
   "metadata": {},
   "outputs": [
    {
     "data": {
      "image/png": "[encoded data removed]",
      "text/plain": [
       "<Figure size 432x288 with 1 Axes>"
      ]
     },
     "metadata": {
      "needs_background": "light"
     },
     "output_type": "display_data"
    }
   ],
   "source": [
    "final_df['topic'].value_counts()[:10].plot(kind='bar')\n",
    "plt.show()"
   ]
  },
  {
   "cell_type": "markdown",
   "metadata": {},
   "source": [
    "### Distribution of Signs"
   ]
  },
  {
   "cell_type": "code",
   "execution_count": 12,
   "metadata": {},
   "outputs": [
    {
     "data": {
      "image/png": "[encoded data removed]",
      "text/plain": [
       "<Figure size 432x288 with 1 Axes>"
      ]
     },
     "metadata": {
      "needs_background": "light"
     },
     "output_type": "display_data"
    }
   ],
   "source": [
    "final_df['sign'].value_counts()[:10].plot(kind='bar')\n",
    "plt.show()"
   ]
  },
  {
   "cell_type": "markdown",
   "metadata": {},
   "source": [
    "# Working with the text column grouped data frame\n",
    "## Removing stop words and punctuation"
   ]
  },
  {
   "cell_type": "code",
   "execution_count": 11,
   "metadata": {},
   "outputs": [],
   "source": [
    "def text_processing(df):\n",
    "    # get stop words from NLTK\n",
    "    stop = stopwords.words('english')\n",
    "    \n",
    "    # remove stop words from the text\n",
    "    df['text_processed'] = df['text'].apply(lambda x : \" \".join(x for x in x.split() if x not in stop))\n",
    "\n",
    "    # removing punctuation \n",
    "    df['text_processed'] = df['text_processed'].str.replace('[^\\w\\s]','')\n",
    "    \n",
    "    # ignore case\n",
    "    df['text_processed'] = df['text_processed'].str.lower()\n",
    "    \n",
    "    # count number of numerical values in the text\n",
    "    df['numerics'] = df['text_processed'].apply(lambda x: len([x for x in x.split() if x.isdigit()]))\n",
    "    \n",
    "    # remove numbers from the text\n",
    "    df['text_processed'] = df['text_processed'].str.replace('\\d+', '')\n",
    "    \n",
    "    # get word roots\n",
    "    df['text_processed'] = df['text_processed'].apply(lambda x: \" \".join([Word(word).lemmatize() for word in x.split()]))\n",
    "    \n",
    "    return df\n"
   ]
  },
  {
   "cell_type": "code",
   "execution_count": 70,
   "metadata": {},
   "outputs": [],
   "source": [
    "final_df = text_processing(final_df)"
   ]
  },
  {
   "cell_type": "code",
   "execution_count": 71,
   "metadata": {},
   "outputs": [],
   "source": [
    "final_df['specials'] = final_df['text_processed'].apply(lambda x: len(re.sub('[^\\^&*#]+' ,'', x)))\n",
    "final_df['count_slang'] = final_df.text_processed.str.count('lol|tbt|smh|tbh|lel|lmao|omg|wtf|ikr|lmfao')"
   ]
  },
  {
   "cell_type": "code",
   "execution_count": 76,
   "metadata": {},
   "outputs": [
    {
     "data": {
      "text/plain": [
       "'well day left le hour i presence favorite band world for know is it dave matthew band man i even love namejkor i anyway i little tired last night i got home ish still wound head i am i stuff mind friend mine went eat me she beautiful personality physically kind caringi could go i dont need to she helped lot lately know anyway ate talked i still wired i got home i played online poker dad hooked watching it i play online little fun it i listened dave becasue talking last night got onto subject i told one song reminded something came conversation some may know it say goodbye one time favs anywayonce got done eating wanted hear it dave cd i made it we got car listened couple song got one it is hard for me to skip dave song to get to just one ok so i made listen couple others first anyway point story i got dave mood i earlier i still christian mood concert past weekend btw take much get dave mood still i really craving then a i writing post i listening central park cd great cd best live show i heard release yet fansloud enough hear cd singing dave boy moral story i ramble jump back forth idea anyway i say that more when i return trip weekend congrats boy nick mcpherson making urllink ou drumline nick one senior noble high he tried ou line made snare see great teachersgreat studentslol well i cant take credit talent needed exposure real drumming real stuff real line play so alan i helped much could still learned alot learning even more i wish kid potential some could wanted put heart it anyway i miss drumming bad i went regal cinema watched dci championship quaterfinals live denver make wish i still involved much i wanted be bill life get way though suckssomething work hard at bleed sweat cry give basically nothing over take fun great good time life lesson learned move life try make next project start at next thing perfect i saying i perfected drumming one ever i put alot it i think i pretty good level learning i wish i would oppertunity take next level fund major part i try blue knight told i made camp month before i would probably offered spot that great horrible feeling time great reguards i knew i good enough make it horrible fact i didnt much like many thing life another thing pass by well anything i really bored i guess i could start writing stuff again i really need read stuff i though anyway day left not much say todayexcept day dave well let see saturday awesome woke aboutam went ate breakfast gang at noon went iceskating two i could stay ice forever thoughcame home bit met back moore taco bueno ate chatted ish left went revival christ church jonah concert get three act the preachaholics paul wright jonah all great i especially liked paul wright jonah the preachaholics gospel rap oknot really it i enjoyed it i could understand saying sound system greatest five sing time know seen rap show paul wright amazing white kid basically couldnt older acoustic guitar turntable dj it awesome sings freestyle hiphoprap acoustic turntable the dj awesome though played bongoswell i might addwhile still turtable he also played djembe really freaking good too awesome way paul wright could sing freestyle amazing very talented kid jonah really awesome too great rock group loud and heavy one hears say doing still heavy enough make bang headlol all amazing time next weekend dave manis anything better feeling getting good haircut i know is still feel pretty dang good well lot going today filled car gas walmart got haircut went ate mid del taco i love place stopped pawnshopjust see something i live without wasnt other that nothing going on gotta work tonight hopefully quick day tomorrow going busy i guess i better rest up well thursday i wishing friday that mean tomorrow would saturday get saturday breakfast oh man good get u together cook food absolutely wonderful biscuit amp gravy sausage pancake french toast hasbrowns sweet breadjust list few btw sweet bread kinda pecan pie type thing biscuit rolled cinnamon sugar top baked sooo goodoh yeah really pie reminds pecan pie anyway i guess i wait another day well i anything today feel kinda nice normally i running around thing go work cover double shift doesnt bother i get paycheck i hate going it but i guess pretty much life huh anyway good friend mine i talking needing write song together i mean i musician write beautiful poetry hello song poem musicwell basically anyway sent couple wrote i mean tell you i love them deep dark personalbut time surface level know i mean you probably oh well anyway i started them i little thing i written i thought could put word it around melody nope god stepped gave something totally new new melody chord progression word seem fit perfectly it huh i wonder said sarcastically neway i guess i post lyric chorus now i really put lot verse yet so i guess oh yeah i titled lead me chorus take hand show i lost show home take hand show way gently lead i go with music i wrote it sound almost like balladcelticfolk it kind combined i never written anything like before again i really written much alright go a little me my name dilon buser i live del city ok i grew mostly outskirt norman lake thunderbird i went school moore i jr high high school band i drumline thru both absolutely love marching percussion i taught noble high drumline last summer hope involved year i absolutely love dave matthew band fan since been i guess could call obsessed since year ago right time i started learning play guitar yes i play guitar taught myself little help friend for part though myself i wanted able play music percussionist well let say i limited i could play anyway i taught myself able develop playing church band i started attending crown center moore little year again i going thru hard time real depression needed way outi found god well enough i wanted more stuck around i think playing band helped stay around longer i thought i would have whatever reason i still therewell kinda we moved new building i guess moore anymore but you get the idea other this much know me oh i cant believe i almost forgot i love hockey about wowfive year ago close friend mine got it i even stand skate barely quad muchless inline skate quite funny i sure wa i think so everyone laughed must have anyway i got good enough join team started playing inline hockey norman i played year i think then i found mother load hockey well atleast around here ice i much better ice skater i inline it took adjust different environment i love it i played time year ago work took time i still want get play occasionally anyway i think now well first time i ever even thought blog i gotten friend good getting thing out i know read this anyone willbut well see help not so anyway now gotta jet meet jeff lunch dilon'"
      ]
     },
     "execution_count": 76,
     "metadata": {},
     "output_type": "execute_result"
    }
   ],
   "source": [
    "# final_df.drop(['specials'], axis=1, inplace=True)\n",
    "final_df.text_processed[6]"
   ]
  },
  {
   "cell_type": "markdown",
   "metadata": {},
   "source": [
    "# Extracting TF-IDF from the text data"
   ]
  },
  {
   "cell_type": "code",
   "execution_count": 77,
   "metadata": {},
   "outputs": [],
   "source": [
    "# extract tf_idf for 1000 words with highest tf-idf values across all documents\n",
    "# parameters: \n",
    "# min_df = 5 , ignore terms that appear in less than 5 documents\n",
    "# max_df = 0.5, ignore terms that appear in more than 50% of the documents\"\n",
    "vectorizer = TfidfVectorizer(min_df=10, max_features=100)\n",
    "X_tfidf = vectorizer.fit_transform(final_df['text_processed']) "
   ]
  },
  {
   "cell_type": "code",
   "execution_count": 78,
   "metadata": {},
   "outputs": [],
   "source": [
    "X_tfidf = X_tfidf.todense()"
   ]
  },
  {
   "cell_type": "code",
   "execution_count": 79,
   "metadata": {},
   "outputs": [],
   "source": [
    "# extract the features created on the final training dataframe\n",
    "features_used = ['topic_cat', 'avg_word_count','num_of_text','count_slang']\n",
    "X_feature = final_df[features_used]\n",
    "# stack the tf-idf and other features together\n",
    "X = np.concatenate((X_tfidf,X_feature.values), axis=1)\n",
    "# get the outcome variable from the data frame\n",
    "y = final_df.age\n",
    "\n",
    "X.shape\n",
    "\n",
    "## K-Fold cross validation\n",
    "\n",
    "test_mse_avg_means = []\n",
    "test_mse_avg_stds = []\n",
    "test_mae_avg_means = []\n",
    "test_mae_avg_stds = []\n",
    "for i in range(1):\n",
    "    kf = KFold(n_splits=10, shuffle=True)\n",
    "\n",
    "    kfold_linreg = LinearRegression()\n",
    "    test_mse = []\n",
    "    test_mae = []\n",
    "\n",
    "    for train_index, test_index in kf.split(X):\n",
    "        X_train = X[train_index]\n",
    "        y_train = y[train_index]\n",
    "        X_test = X[test_index]\n",
    "        y_test = y[test_index]\n",
    "    \n",
    "        # train model\n",
    "        kfold_linreg.fit(X_train,y_train)\n",
    "    \n",
    "        y_pred = kfold_linreg.predict(X_test)\n",
    "    \n",
    "        mse = mean_squared_error(y_test,y_pred)\n",
    "        mae = mean_absolute_error(y_test, y_pred)\n",
    "        test_mse.append(mse)\n",
    "        test_mae.append(mae)\n",
    "\n",
    "    #test mae\n",
    "    std_test_mae = np.std(test_mae)\n",
    "    avg_test_mae = np.mean(test_mae)\n",
    "    test_mae_avg_means.append(avg_test_mae)\n",
    "    test_mae_avg_stds.append(std_test_mae)\n",
    "    \n",
    "    #test_mse\n",
    "    std_test_mse = np.std(test_mse)\n",
    "    avg_test_mse = np.mean(test_mse)\n",
    "    test_mse_avg_means.append(avg_test_mse)\n",
    "    test_mse_avg_stds.append(std_test_mse)"
   ]
  },
  {
   "cell_type": "code",
   "execution_count": 80,
   "metadata": {},
   "outputs": [
    {
     "name": "stdout",
     "output_type": "stream",
     "text": [
      "4.709722575037447\n",
      "0.06688696780785751\n",
      "40.123807332338195\n",
      "1.289132481309919\n"
     ]
    }
   ],
   "source": [
    "print(np.mean(test_mae_avg_means))\n",
    "print(np.mean(test_mae_avg_stds))\n",
    "print(np.mean(test_mse_avg_means))\n",
    "print(np.mean(test_mse_avg_stds))"
   ]
  },
  {
   "cell_type": "markdown",
   "metadata": {},
   "source": [
    "## Checking different features"
   ]
  },
  {
   "cell_type": "code",
   "execution_count": 81,
   "metadata": {},
   "outputs": [
    {
     "data": {
      "text/plain": [
       "(12880, 105)"
      ]
     },
     "execution_count": 81,
     "metadata": {},
     "output_type": "execute_result"
    }
   ],
   "source": [
    "# extract the features created on the final training dataframe\n",
    "features_used = ['topic_cat', 'avg_word_count','num_of_text','count_slang', 'numerics']\n",
    "X_feature = final_df[features_used]\n",
    "# stack the tf-idf and other features together\n",
    "X = np.concatenate((X_tfidf,X_feature.values), axis=1)\n",
    "# get the outcome variable from the data frame\n",
    "y = final_df.age\n",
    "\n",
    "X.shape"
   ]
  },
  {
   "cell_type": "code",
   "execution_count": 82,
   "metadata": {},
   "outputs": [],
   "source": [
    "## K-Fold cross validation\n",
    "\n",
    "test_mse_avg_means = []\n",
    "test_mse_avg_stds = []\n",
    "test_mae_avg_means = []\n",
    "test_mae_avg_stds = []\n",
    "for i in range(1):\n",
    "    kf = KFold(n_splits=10)\n",
    "\n",
    "    kfold_linreg = LinearRegression(normalize=True)\n",
    "    test_mse = []\n",
    "    test_mae = []\n",
    "\n",
    "    for train_index, test_index in kf.split(X):\n",
    "        X_train = X[train_index]\n",
    "        y_train = y[train_index]\n",
    "        X_test = X[test_index]\n",
    "        y_test = y[test_index]\n",
    "    \n",
    "        # train model\n",
    "        kfold_linreg.fit(X_train,y_train)\n",
    "    \n",
    "        y_pred = kfold_linreg.predict(X_test)\n",
    "    \n",
    "        mse = mean_squared_error(y_test,y_pred)\n",
    "        mae = mean_absolute_error(y_test, y_pred)\n",
    "        test_mse.append(mse)\n",
    "        test_mae.append(mae)\n",
    "\n",
    "    #test mae\n",
    "    std_test_mae = np.std(test_mae)\n",
    "    avg_test_mae = np.mean(test_mae)\n",
    "    test_mae_avg_means.append(avg_test_mae)\n",
    "    test_mae_avg_stds.append(std_test_mae)\n",
    "    \n",
    "    #test_mse\n",
    "    std_test_mse = np.std(test_mse)\n",
    "    avg_test_mse = np.mean(test_mse)\n",
    "    test_mse_avg_means.append(avg_test_mse)\n",
    "    test_mse_avg_stds.append(std_test_mse)"
   ]
  },
  {
   "cell_type": "code",
   "execution_count": 83,
   "metadata": {},
   "outputs": [
    {
     "name": "stdout",
     "output_type": "stream",
     "text": [
      "4.70685644010229\n",
      "0.10634147569312109\n",
      "40.14952200636579\n",
      "2.208405211643968\n"
     ]
    }
   ],
   "source": [
    "print(np.mean(test_mae_avg_means))\n",
    "print(np.mean(test_mae_avg_stds))\n",
    "print(np.mean(test_mse_avg_means))\n",
    "print(np.mean(test_mse_avg_stds))"
   ]
  },
  {
   "cell_type": "code",
   "execution_count": 56,
   "metadata": {},
   "outputs": [
    {
     "name": "stdout",
     "output_type": "stream",
     "text": [
      "4.22922151373935\n",
      "0.1027445188239855\n",
      "32.28747343613232\n",
      "2.012983339041023\n"
     ]
    }
   ],
   "source": [
    "print(np.mean(test_mae_avg_means))\n",
    "print(np.mean(test_mae_avg_stds))\n",
    "print(np.mean(test_mse_avg_means))\n",
    "print(np.mean(test_mse_avg_stds))"
   ]
  },
  {
   "cell_type": "markdown",
   "metadata": {},
   "source": [
    "## Making the model"
   ]
  },
  {
   "cell_type": "code",
   "execution_count": 65,
   "metadata": {},
   "outputs": [],
   "source": [
    "# split the data into 80 percent train and 20 percent test\n",
    "X_train, X_test, y_train, y_test = train_test_split(X, y, test_size=0.20, random_state=4200)"
   ]
  },
  {
   "cell_type": "code",
   "execution_count": 186,
   "metadata": {},
   "outputs": [
    {
     "data": {
      "text/plain": [
       "LinearRegression(copy_X=True, fit_intercept=True, n_jobs=1, normalize=False)"
      ]
     },
     "execution_count": 186,
     "metadata": {},
     "output_type": "execute_result"
    }
   ],
   "source": [
    "# make a linear regression model\n",
    "linreg = LinearRegression()\n",
    "\n",
    "linreg.fit(X, y)"
   ]
  },
  {
   "cell_type": "code",
   "execution_count": 23,
   "metadata": {},
   "outputs": [
    {
     "name": "stdout",
     "output_type": "stream",
     "text": [
      "<class 'pandas.core.frame.DataFrame'>\n",
      "RangeIndex: 12880 entries, 0 to 12879\n",
      "Data columns (total 15 columns):\n",
      "user.id           12880 non-null int64\n",
      "topic             12880 non-null object\n",
      "gender            12880 non-null object\n",
      "sign              12880 non-null object\n",
      "topic_cat         12880 non-null category\n",
      "gender_cat        12880 non-null category\n",
      "sign_cat          12880 non-null category\n",
      "text              12880 non-null object\n",
      "age               12880 non-null int64\n",
      "tot_word_count    12880 non-null int64\n",
      "avg_word_count    12880 non-null float64\n",
      "num_of_text       12880 non-null int64\n",
      "text_processed    12880 non-null object\n",
      "numerics          12880 non-null int64\n",
      "count_slang       12880 non-null int64\n",
      "dtypes: category(3), float64(1), int64(6), object(5)\n",
      "memory usage: 1.2+ MB\n"
     ]
    }
   ],
   "source": [
    "final_df.info()"
   ]
  },
  {
   "cell_type": "code",
   "execution_count": 151,
   "metadata": {},
   "outputs": [
    {
     "name": "stdout",
     "output_type": "stream",
     "text": [
      "<class 'pandas.core.frame.DataFrame'>\n",
      "RangeIndex: 12880 entries, 0 to 12879\n",
      "Data columns (total 16 columns):\n",
      "user.id           12880 non-null int64\n",
      "topic             12880 non-null object\n",
      "gender            12880 non-null object\n",
      "sign              12880 non-null object\n",
      "topic_cat         12880 non-null int8\n",
      "gender_cat        12880 non-null int8\n",
      "sign_cat          12880 non-null int8\n",
      "text              12880 non-null object\n",
      "age               12880 non-null int64\n",
      "tot_word_count    12880 non-null int64\n",
      "avg_word_count    12880 non-null float64\n",
      "num_of_text       12880 non-null int64\n",
      "text_processed    12880 non-null object\n",
      "numerics          12880 non-null int64\n",
      "count_lol         12880 non-null int64\n",
      "count_slang       12880 non-null int64\n",
      "dtypes: float64(1), int64(7), int8(3), object(5)\n",
      "memory usage: 1.3+ MB\n"
     ]
    }
   ],
   "source": [
    "final_df.info()"
   ]
  },
  {
   "cell_type": "code",
   "execution_count": 87,
   "metadata": {},
   "outputs": [
    {
     "data": {
      "text/plain": [
       "33.06301015228762"
      ]
     },
     "execution_count": 87,
     "metadata": {},
     "output_type": "execute_result"
    }
   ],
   "source": [
    "avg_test_mse = np.mean(test_mse)\n",
    "avg_test_mse"
   ]
  },
  {
   "cell_type": "markdown",
   "metadata": {},
   "source": [
    "## Making predictions"
   ]
  },
  {
   "cell_type": "code",
   "execution_count": 174,
   "metadata": {},
   "outputs": [],
   "source": [
    "remove_spaces_from_text_col(test)\n",
    "cat, text = group_by_user_id_col(test)\n",
    "tot_word_count, avg_word_count, num_of_text = feature_creation(test)\n",
    "test_df = create_final_df([cat, text, tot_word_count, avg_word_count, num_of_text])"
   ]
  },
  {
   "cell_type": "code",
   "execution_count": 175,
   "metadata": {},
   "outputs": [],
   "source": [
    "test_df = text_processing(test_df)"
   ]
  },
  {
   "cell_type": "code",
   "execution_count": null,
   "metadata": {},
   "outputs": [],
   "source": [
    "test_df[\"gender_cat\"] = test_df[\"gender_cat\"].astype('category')\n",
    "test_df[\"topic_cat\"] = test_df[\"topic_cat\"].astype('category')\n",
    "test_df[\"sign_cat\"] = test_df[\"sign_cat\"].astype('category')"
   ]
  },
  {
   "cell_type": "code",
   "execution_count": 184,
   "metadata": {},
   "outputs": [
    {
     "data": {
      "text/html": [
       "<div>\n",
       "<style scoped>\n",
       "    .dataframe tbody tr th:only-of-type {\n",
       "        vertical-align: middle;\n",
       "    }\n",
       "\n",
       "    .dataframe tbody tr th {\n",
       "        vertical-align: top;\n",
       "    }\n",
       "\n",
       "    .dataframe thead th {\n",
       "        text-align: right;\n",
       "    }\n",
       "</style>\n",
       "<table border=\"1\" class=\"dataframe\">\n",
       "  <thead>\n",
       "    <tr style=\"text-align: right;\">\n",
       "      <th></th>\n",
       "      <th>user.id</th>\n",
       "      <th>topic</th>\n",
       "      <th>gender</th>\n",
       "      <th>sign</th>\n",
       "      <th>topic_cat</th>\n",
       "      <th>gender_cat</th>\n",
       "      <th>sign_cat</th>\n",
       "      <th>text</th>\n",
       "      <th>tot_word_count</th>\n",
       "      <th>avg_word_count</th>\n",
       "      <th>num_of_text</th>\n",
       "      <th>text_processed</th>\n",
       "      <th>numerics</th>\n",
       "      <th>count_slang</th>\n",
       "    </tr>\n",
       "  </thead>\n",
       "  <tbody>\n",
       "    <tr>\n",
       "      <th>0</th>\n",
       "      <td>2</td>\n",
       "      <td>Military</td>\n",
       "      <td>male</td>\n",
       "      <td>Taurus</td>\n",
       "      <td>26</td>\n",
       "      <td>1</td>\n",
       "      <td>10</td>\n",
       "      <td>I finally saw Nathan's tattoo tonight. I like ...</td>\n",
       "      <td>833</td>\n",
       "      <td>119.000000</td>\n",
       "      <td>7</td>\n",
       "      <td>i finally saw nathans tattoo tonight i like it...</td>\n",
       "      <td>6</td>\n",
       "      <td>0</td>\n",
       "    </tr>\n",
       "    <tr>\n",
       "      <th>1</th>\n",
       "      <td>8</td>\n",
       "      <td>indUnk</td>\n",
       "      <td>male</td>\n",
       "      <td>Aquarius</td>\n",
       "      <td>39</td>\n",
       "      <td>1</td>\n",
       "      <td>0</td>\n",
       "      <td>Today was the last day and the shortest. We ha...</td>\n",
       "      <td>11790</td>\n",
       "      <td>170.869565</td>\n",
       "      <td>69</td>\n",
       "      <td>today last day shortest we one session lasted ...</td>\n",
       "      <td>147</td>\n",
       "      <td>0</td>\n",
       "    </tr>\n",
       "  </tbody>\n",
       "</table>\n",
       "</div>"
      ],
      "text/plain": [
       "   user.id     topic gender      sign  topic_cat  gender_cat  sign_cat  \\\n",
       "0        2  Military   male    Taurus         26           1        10   \n",
       "1        8    indUnk   male  Aquarius         39           1         0   \n",
       "\n",
       "                                                text  tot_word_count  \\\n",
       "0  I finally saw Nathan's tattoo tonight. I like ...             833   \n",
       "1  Today was the last day and the shortest. We ha...           11790   \n",
       "\n",
       "   avg_word_count  num_of_text  \\\n",
       "0      119.000000            7   \n",
       "1      170.869565           69   \n",
       "\n",
       "                                      text_processed  numerics  count_slang  \n",
       "0  i finally saw nathans tattoo tonight i like it...         6            0  \n",
       "1  today last day shortest we one session lasted ...       147            0  "
      ]
     },
     "execution_count": 184,
     "metadata": {},
     "output_type": "execute_result"
    }
   ],
   "source": [
    "test_df['count_slang'] = test_df.text_processed.str.count('lol|tbt|smh|tbh|lel|lmao|omg|wtf|ikr')\n",
    "test_df.head(2)"
   ]
  },
  {
   "cell_type": "code",
   "execution_count": 229,
   "metadata": {},
   "outputs": [],
   "source": [
    "# get the tf-idf of the same vocabulary of words learnt while fitting\n",
    "X_test = vectorizer.transform(test_df['text_processed'])\n",
    "X_test = X_test.todense()\n",
    "# get the same feature from the test data as from the train data set\n",
    "X_test_cat = test_df[features_used]\n",
    "# stack the tf-idf and extracted features together\n",
    "X_test_mat = np.concatenate((X_test,X_test_cat.values), axis=1)"
   ]
  },
  {
   "cell_type": "code",
   "execution_count": 231,
   "metadata": {},
   "outputs": [
    {
     "data": {
      "text/plain": [
       "(6440, 1005)"
      ]
     },
     "execution_count": 231,
     "metadata": {},
     "output_type": "execute_result"
    }
   ],
   "source": [
    "X_test_mat.shape"
   ]
  },
  {
   "cell_type": "code",
   "execution_count": 191,
   "metadata": {},
   "outputs": [],
   "source": [
    "# predict on the test data\n",
    "y_pred_test = linreg.predict(X_test_mat)"
   ]
  },
  {
   "cell_type": "code",
   "execution_count": 192,
   "metadata": {},
   "outputs": [],
   "source": [
    "# write predictions to file\n",
    "y_pred_test = pd.Series(y_pred_test)\n",
    "predictions = pd.concat([test_df['user.id'], y_pred_test], axis=1)\n",
    "predictions.columns = ['user.id','age']\n",
    "predictions.age = np.floor(predictions.age)\n",
    "predictions.to_csv('./predictions_text_test.csv', index=False)"
   ]
  }
 ],
 "metadata": {
  "kernelspec": {
   "display_name": "Python 3",
   "language": "python",
   "name": "python3"
  },
  "language_info": {
   "codemirror_mode": {
    "name": "ipython",
    "version": 3
   },
   "file_extension": ".py",
   "mimetype": "text/x-python",
   "name": "python",
   "nbconvert_exporter": "python",
   "pygments_lexer": "ipython3",
   "version": "3.6.6"
  }
 },
 "nbformat": 4,
 "nbformat_minor": 2
}
