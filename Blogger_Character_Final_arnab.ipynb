{
 "cells": [
  {
   "cell_type": "code",
   "execution_count": 80,
   "metadata": {},
   "outputs": [],
   "source": [
    "import pandas as pd\n",
    "import numpy as np\n",
    "import matplotlib.pyplot as plt\n",
    "import re\n",
    "\n",
    "import nltk\n",
    "from nltk.corpus import stopwords\n",
    "from textblob import TextBlob\n",
    "import string\n",
    "from nltk.stem.porter import PorterStemmer\n",
    "from textblob import Word\n",
    "\n",
    "from sklearn.feature_extraction.text import TfidfVectorizer\n",
    "from sklearn.feature_extraction.text import CountVectorizer\n",
    "from sklearn.feature_extraction.text import TfidfTransformer\n",
    "from sklearn.linear_model import LinearRegression\n",
    "from sklearn.kernel_ridge import KernelRidge\n",
    "from sklearn.model_selection import train_test_split\n",
    "from sklearn.metrics import mean_squared_error\n",
    "from sklearn.metrics import mean_absolute_error\n",
    "\n",
    "import math\n",
    "\n",
    "from scipy.sparse import hstack\n",
    "from sklearn.model_selection import KFold"
   ]
  },
  {
   "cell_type": "markdown",
   "metadata": {},
   "source": [
    "# Data Pre-processing"
   ]
  },
  {
   "cell_type": "code",
   "execution_count": 81,
   "metadata": {},
   "outputs": [],
   "source": [
    "def pre_process_df(df):\n",
    "    df[\"gender\"] = df[\"gender\"].astype('category')\n",
    "    df[\"topic\"] = df[\"topic\"].astype('category')\n",
    "    df[\"sign\"] = df[\"sign\"].astype('category')\n",
    "\n",
    "    df[\"gender_cat\"] = df[\"gender\"].cat.codes\n",
    "    df[\"topic_cat\"] = df[\"topic\"].cat.codes\n",
    "    df[\"sign_cat\"] = df[\"sign\"].cat.codes\n",
    "    \n",
    "    df[\"gender_cat\"] = df[\"gender_cat\"].astype('category')\n",
    "    df[\"topic_cat\"] = df[\"topic_cat\"].astype('category')\n",
    "    df[\"sign_cat\"] = df[\"sign_cat\"].astype('category')\n",
    "\n",
    "def get_word_count(df):\n",
    "    df['word_count'] = df['text'].apply(lambda x: len(str(x).split(\" \")))\n",
    "    "
   ]
  },
  {
   "cell_type": "code",
   "execution_count": 82,
   "metadata": {},
   "outputs": [],
   "source": [
    "train = pd.read_csv('./data/train.csv')\n",
    "test = pd.read_csv('./data/test.csv')"
   ]
  },
  {
   "cell_type": "code",
   "execution_count": 83,
   "metadata": {},
   "outputs": [
    {
     "name": "stdout",
     "output_type": "stream",
     "text": [
      "<class 'pandas.core.frame.DataFrame'>\n",
      "RangeIndex: 442961 entries, 0 to 442960\n",
      "Data columns (total 8 columns):\n",
      "post.id    442961 non-null int64\n",
      "user.id    442961 non-null int64\n",
      "gender     442961 non-null object\n",
      "topic      442961 non-null object\n",
      "sign       442961 non-null object\n",
      "date       442961 non-null object\n",
      "text       442961 non-null object\n",
      "age        442961 non-null int64\n",
      "dtypes: int64(3), object(5)\n",
      "memory usage: 27.0+ MB\n"
     ]
    }
   ],
   "source": [
    "train.info()"
   ]
  },
  {
   "cell_type": "code",
   "execution_count": 84,
   "metadata": {},
   "outputs": [],
   "source": [
    "pre_process_df(train)\n",
    "pre_process_df(test)\n",
    "get_word_count(train)\n",
    "get_word_count(test)"
   ]
  },
  {
   "cell_type": "markdown",
   "metadata": {},
   "source": [
    "## Data Processing on the Text Column"
   ]
  },
  {
   "cell_type": "markdown",
   "metadata": {},
   "source": [
    "## Grouping the data by USER ID\n",
    "### (found no change in gender,age, or topic across user.id at time of collecting data)"
   ]
  },
  {
   "cell_type": "code",
   "execution_count": 85,
   "metadata": {},
   "outputs": [],
   "source": [
    "def remove_spaces_from_text_col(df):\n",
    "    \n",
    "    # replace &nbsp; or Non-Breaking spaces with normal spaces\n",
    "    df['text'] = df['text'].apply(lambda x: re.sub('&nbsp;', ' ',str(x)))\n",
    "    # remove duplicate spaces\n",
    "    df['text'] = df['text'].apply(lambda x: re.sub(' +', ' ',str(x)))\n",
    "    # strip spaces around the sentence string\n",
    "    df['text'] = df['text'].apply(lambda x: str(x).strip())\n",
    "\n",
    "\n",
    "def group_by_user_id_col(df):\n",
    "    # group by user id and get all the categorical variables\n",
    "    cat = df.groupby(['user.id'])['topic','gender', 'sign','topic_cat','gender_cat', 'sign_cat' ].first()\n",
    "    cat.columns = ['topic','gender', 'sign','topic_cat','gender_cat', 'sign_cat' ]\n",
    "    \n",
    "    # group by user id and get all text written by the user\n",
    "    text = df.groupby(['user.id'])['text'].apply(lambda x:' '.join(x))\n",
    "    \n",
    "    # check for age column and get the age of each user\n",
    "    if 'age' in df.columns:\n",
    "        age = df.groupby(['user.id'])['age'].agg(np.average)\n",
    "        return cat, text, age\n",
    "        \n",
    "    return cat, text\n",
    "\n",
    "def feature_creation(df):\n",
    "    # get the total word count for each user\n",
    "    tot_word_count = df.groupby(['user.id'])['word_count'].agg(np.sum)\n",
    "    tot_word_count.name = 'tot_word_count'\n",
    "    \n",
    "    # get average word count for each user\n",
    "    avg_word_count = df.groupby(['user.id'])['word_count'].agg(np.average)\n",
    "    avg_word_count.name = 'avg_word_count'\n",
    "    \n",
    "    # get the number of posts by each user\n",
    "    num_of_text = df.groupby(['user.id'])['user.id'].agg(['count'])\n",
    "    num_of_text.columns = ['num_of_text']\n",
    "    \n",
    "    return tot_word_count, avg_word_count, num_of_text\n",
    "\n",
    "def create_final_df(feature_dfs): # pass list of feature data frames created; returns concatenated data frame\n",
    "    \n",
    "    final_df = pd.concat(feature_dfs, axis=1)\n",
    "    final_df = final_df.reset_index()\n",
    "    \n",
    "    return final_df\n",
    "        "
   ]
  },
  {
   "cell_type": "code",
   "execution_count": 86,
   "metadata": {},
   "outputs": [],
   "source": [
    "remove_spaces_from_text_col(train)\n",
    "cat, text, age = group_by_user_id_col(train)\n",
    "tot_word_count, avg_word_count, num_of_text = feature_creation(train)\n",
    "final_df = create_final_df([cat, text, age, tot_word_count, avg_word_count, num_of_text])"
   ]
  },
  {
   "cell_type": "code",
   "execution_count": 87,
   "metadata": {},
   "outputs": [],
   "source": [
    "final_df[\"gender_cat\"] = final_df[\"gender_cat\"].astype('category')\n",
    "final_df[\"topic_cat\"] = final_df[\"topic_cat\"].astype('category')\n",
    "final_df[\"sign_cat\"] = final_df[\"sign_cat\"].astype('category')"
   ]
  },
  {
   "cell_type": "code",
   "execution_count": 88,
   "metadata": {},
   "outputs": [
    {
     "name": "stdout",
     "output_type": "stream",
     "text": [
      "<class 'pandas.core.frame.DataFrame'>\n",
      "RangeIndex: 12880 entries, 0 to 12879\n",
      "Data columns (total 12 columns):\n",
      "user.id           12880 non-null int64\n",
      "topic             12880 non-null object\n",
      "gender            12880 non-null object\n",
      "sign              12880 non-null object\n",
      "topic_cat         12880 non-null category\n",
      "gender_cat        12880 non-null category\n",
      "sign_cat          12880 non-null category\n",
      "text              12880 non-null object\n",
      "age               12880 non-null int64\n",
      "tot_word_count    12880 non-null int64\n",
      "avg_word_count    12880 non-null float64\n",
      "num_of_text       12880 non-null int64\n",
      "dtypes: category(3), float64(1), int64(4), object(4)\n",
      "memory usage: 945.5+ KB\n"
     ]
    }
   ],
   "source": [
    "final_df.info()"
   ]
  },
  {
   "cell_type": "markdown",
   "metadata": {},
   "source": [
    "# Exploring the data\n",
    "\n",
    "### Gender Division"
   ]
  },
  {
   "cell_type": "code",
   "execution_count": 89,
   "metadata": {},
   "outputs": [
    {
     "data": {
      "image/png": "[encoded data removed]",
      "text/plain": [
       "<Figure size 432x288 with 1 Axes>"
      ]
     },
     "metadata": {},
     "output_type": "display_data"
    }
   ],
   "source": [
    "# train.groupby(['user.id'])['gender'].value_counts().plot(kind='barh')\n",
    "final_df['gender'].value_counts().plot(kind='barh')\n",
    "plt.show()"
   ]
  },
  {
   "cell_type": "markdown",
   "metadata": {},
   "source": [
    "### Top 10 Topics by Frequency"
   ]
  },
  {
   "cell_type": "code",
   "execution_count": 90,
   "metadata": {},
   "outputs": [
    {
     "data": {
      "image/png": "[encoded data removed]",
      "text/plain": [
       "<Figure size 432x288 with 1 Axes>"
      ]
     },
     "metadata": {},
     "output_type": "display_data"
    }
   ],
   "source": [
    "final_df['topic'].value_counts()[:10].plot(kind='bar')\n",
    "plt.show()"
   ]
  },
  {
   "cell_type": "markdown",
   "metadata": {},
   "source": [
    "### Distribution of Signs"
   ]
  },
  {
   "cell_type": "code",
   "execution_count": 91,
   "metadata": {},
   "outputs": [
    {
     "data": {
      "image/png": "[encoded data removed]",
      "text/plain": [
       "<Figure size 432x288 with 1 Axes>"
      ]
     },
     "metadata": {},
     "output_type": "display_data"
    }
   ],
   "source": [
    "final_df['sign'].value_counts()[:10].plot(kind='bar')\n",
    "plt.show()"
   ]
  },
  {
   "cell_type": "markdown",
   "metadata": {},
   "source": [
    "# Working with the text column grouped data frame\n",
    "## Removing stop words and punctuation"
   ]
  },
  {
   "cell_type": "code",
   "execution_count": 92,
   "metadata": {},
   "outputs": [],
   "source": [
    "def text_processing(df):\n",
    "    # get stop words from NLTK\n",
    "    stop = stopwords.words('english')\n",
    "    \n",
    "    # remove stop words from the text\n",
    "    df['text_processed'] = df['text'].apply(lambda x : \" \".join(x for x in x.split() if x not in stop))\n",
    "    \n",
    "    # count special characters\n",
    "    df['specials'] = df['text_processed'].apply(lambda x: len(re.sub('[^\\^&*#!-]+' ,'', x)))\n",
    "    \n",
    "    # count normal punctuations\n",
    "    df['punc'] = df['text_processed'].apply(lambda x: len(re.sub('[^.?]+' ,'', x)))\n",
    "    \n",
    "    # removing punctuation \n",
    "    df['text_processed'] = df['text_processed'].str.replace('[^\\w\\s]','')\n",
    "    \n",
    "    # ignore case\n",
    "    df['text_processed'] = df['text_processed'].str.lower()\n",
    "    \n",
    "    # count number of numerical values in the text\n",
    "    df['numerics'] = df['text_processed'].apply(lambda x: len([x for x in x.split() if x.isdigit()]))\n",
    "    \n",
    "    # remove numbers from the text\n",
    "    df['text_processed'] = df['text_processed'].str.replace('\\d+', '')\n",
    "    \n",
    "    # get word roots\n",
    "    df['text_processed'] = df['text_processed'].apply(lambda x: \" \".join([Word(word).lemmatize() for word in x.split()]))\n",
    "    \n",
    "    return df\n"
   ]
  },
  {
   "cell_type": "code",
   "execution_count": 93,
   "metadata": {},
   "outputs": [
    {
     "name": "stdout",
     "output_type": "stream",
     "text": [
      "[nltk_data] Downloading package wordnet to\n",
      "[nltk_data]     C:\\Users\\Arnab\\AppData\\Roaming\\nltk_data...\n",
      "[nltk_data]   Package wordnet is already up-to-date!\n"
     ]
    },
    {
     "data": {
      "text/plain": [
       "True"
      ]
     },
     "execution_count": 93,
     "metadata": {},
     "output_type": "execute_result"
    }
   ],
   "source": [
    "import nltk\n",
    "nltk.download('wordnet')"
   ]
  },
  {
   "cell_type": "code",
   "execution_count": 94,
   "metadata": {},
   "outputs": [],
   "source": [
    "final_df = text_processing(final_df)"
   ]
  },
  {
   "cell_type": "code",
   "execution_count": 95,
   "metadata": {},
   "outputs": [],
   "source": [
    "#final_df['specials'] = final_df['text_processed'].apply(lambda x: len(re.sub('[^\\^&*#]+' ,'', x)))\n",
    "final_df['count_slang'] = final_df.text_processed.str.count('lol|tbt|smh|tbh|lel|lmao|omg|wtf|ikr|lmfao')\n",
    "final_df['numerics_num_of_text'] = final_df['numerics']/final_df['num_of_text']\n",
    "final_df['specials_num_of_text'] = final_df['specials']/final_df['num_of_text']\n",
    "final_df['punc_num_of_text'] = final_df['punc']/final_df['num_of_text']\n"
   ]
  },
  {
   "cell_type": "code",
   "execution_count": 96,
   "metadata": {},
   "outputs": [
    {
     "data": {
      "text/plain": [
       "\"Not too much exciting has happened this weekend, I've just been really busy. I've worked Saturday, Sunday, and am going in today to work 4-close and it's urlLink Memorials Day . I hope I make lots and lots of urlLink money -- hopefully. I really like my new job as a 'server assistant' at Mahi-Mah's. The people there are really cool and pretty laid back about things; except Cherie. She is urlLink gay . She's the sidework Nazi. I like everyone else though, especially the girls. I finally got to detail my car yesterday. It smells good on the inside and is... well, shiny? It sucks having an old car because no matter how well you wash and clean it, it's still not going to have the same flare as it would if it were a suped up 97' v-tec Civic Si. Oh well, I should be getting a new car within the next year or so anyways. Saturday me and Derrick decided to skip youth group. It just isn't as pumped as it use to be. Maybe it's the fact that there is like 3x the younger urlLink kids and none of the people that all use to hang out together go anymore. I'm glad that they're all there to worship God and stuff, but I think it's time for me to find other time to worship God. I think I'm just going to start going to urlLink VBCLC church on Sundays in the morning or at night, whichever I don't have to work. I'm also re-thinking this whole urlLink Young Life trip. Do I really want to spend $400 more dollars on something I'm not totally pumped for? Or do I just pay back my mom the $100 that we had to put down as a down payment. Young Life just doesn't do it for me anymore. It feels more like a social gathering than a Christian based thing. I mean sure, if that's why I was going to go on this trip for in the first place, I'd still go. But back when I put that $100 down payment I thought it was something more than a social gathering. Now I know the people there better and I'm just turned away by the whole thing. Half the Young Life leader's there drink and hook up with different girls every day of the week. It's just wrong in my opinion and I don't think I'm up to spending $400 dollars for a trip that's meant to bring teen's closer to God but really is a week long trip for them to get away from their parents and go hang out with a bunch of urlLink hot girls . Well I guess I'm going to go do my urlLink homework for tomorrow and wednesday so that I don't have to do it then because I know I'm just going to want to urlLink sleep when I get off work. Take care guys.\""
      ]
     },
     "execution_count": 96,
     "metadata": {},
     "output_type": "execute_result"
    }
   ],
   "source": [
    "# final_df.drop(['specials'], axis=1, inplace=True)\n",
    "final_df.text[2]"
   ]
  },
  {
   "cell_type": "code",
   "execution_count": 97,
   "metadata": {},
   "outputs": [
    {
     "data": {
      "text/html": [
       "<div>\n",
       "<style scoped>\n",
       "    .dataframe tbody tr th:only-of-type {\n",
       "        vertical-align: middle;\n",
       "    }\n",
       "\n",
       "    .dataframe tbody tr th {\n",
       "        vertical-align: top;\n",
       "    }\n",
       "\n",
       "    .dataframe thead th {\n",
       "        text-align: right;\n",
       "    }\n",
       "</style>\n",
       "<table border=\"1\" class=\"dataframe\">\n",
       "  <thead>\n",
       "    <tr style=\"text-align: right;\">\n",
       "      <th></th>\n",
       "      <th>user.id</th>\n",
       "      <th>topic</th>\n",
       "      <th>gender</th>\n",
       "      <th>sign</th>\n",
       "      <th>topic_cat</th>\n",
       "      <th>gender_cat</th>\n",
       "      <th>sign_cat</th>\n",
       "      <th>text</th>\n",
       "      <th>age</th>\n",
       "      <th>tot_word_count</th>\n",
       "      <th>avg_word_count</th>\n",
       "      <th>num_of_text</th>\n",
       "      <th>text_processed</th>\n",
       "      <th>specials</th>\n",
       "      <th>punc</th>\n",
       "      <th>numerics</th>\n",
       "      <th>count_slang</th>\n",
       "      <th>numerics_num_of_text</th>\n",
       "      <th>specials_num_of_text</th>\n",
       "      <th>punc_num_of_text</th>\n",
       "    </tr>\n",
       "  </thead>\n",
       "  <tbody>\n",
       "    <tr>\n",
       "      <th>0</th>\n",
       "      <td>1</td>\n",
       "      <td>indUnk</td>\n",
       "      <td>male</td>\n",
       "      <td>Sagittarius</td>\n",
       "      <td>39</td>\n",
       "      <td>1</td>\n",
       "      <td>8</td>\n",
       "      <td>Doritos Fuel of Space urlLink : Ian Myers NASA...</td>\n",
       "      <td>17</td>\n",
       "      <td>2384</td>\n",
       "      <td>76.903226</td>\n",
       "      <td>31</td>\n",
       "      <td>doritos fuel space urllink ian myers nasa new ...</td>\n",
       "      <td>26</td>\n",
       "      <td>165</td>\n",
       "      <td>14</td>\n",
       "      <td>1</td>\n",
       "      <td>0.451613</td>\n",
       "      <td>0.838710</td>\n",
       "      <td>5.322581</td>\n",
       "    </tr>\n",
       "    <tr>\n",
       "      <th>1</th>\n",
       "      <td>3</td>\n",
       "      <td>indUnk</td>\n",
       "      <td>female</td>\n",
       "      <td>Leo</td>\n",
       "      <td>39</td>\n",
       "      <td>0</td>\n",
       "      <td>5</td>\n",
       "      <td>Yeah, I set up this blog so Heather would be h...</td>\n",
       "      <td>16</td>\n",
       "      <td>1643</td>\n",
       "      <td>205.375000</td>\n",
       "      <td>8</td>\n",
       "      <td>yeah i set blog heather would happyshe better ...</td>\n",
       "      <td>39</td>\n",
       "      <td>355</td>\n",
       "      <td>14</td>\n",
       "      <td>31</td>\n",
       "      <td>1.750000</td>\n",
       "      <td>4.875000</td>\n",
       "      <td>44.375000</td>\n",
       "    </tr>\n",
       "    <tr>\n",
       "      <th>2</th>\n",
       "      <td>4</td>\n",
       "      <td>Student</td>\n",
       "      <td>male</td>\n",
       "      <td>Aquarius</td>\n",
       "      <td>34</td>\n",
       "      <td>1</td>\n",
       "      <td>0</td>\n",
       "      <td>Not too much exciting has happened this weeken...</td>\n",
       "      <td>17</td>\n",
       "      <td>535</td>\n",
       "      <td>535.000000</td>\n",
       "      <td>1</td>\n",
       "      <td>not much exciting happened weekend ive really ...</td>\n",
       "      <td>6</td>\n",
       "      <td>32</td>\n",
       "      <td>5</td>\n",
       "      <td>0</td>\n",
       "      <td>5.000000</td>\n",
       "      <td>6.000000</td>\n",
       "      <td>32.000000</td>\n",
       "    </tr>\n",
       "    <tr>\n",
       "      <th>3</th>\n",
       "      <td>5</td>\n",
       "      <td>Accounting</td>\n",
       "      <td>female</td>\n",
       "      <td>Pisces</td>\n",
       "      <td>0</td>\n",
       "      <td>0</td>\n",
       "      <td>7</td>\n",
       "      <td>European Pilgrimage For High school Students o...</td>\n",
       "      <td>47</td>\n",
       "      <td>9931</td>\n",
       "      <td>451.409091</td>\n",
       "      <td>22</td>\n",
       "      <td>european pilgrimage for high school student st...</td>\n",
       "      <td>158</td>\n",
       "      <td>443</td>\n",
       "      <td>67</td>\n",
       "      <td>1</td>\n",
       "      <td>3.045455</td>\n",
       "      <td>7.181818</td>\n",
       "      <td>20.136364</td>\n",
       "    </tr>\n",
       "    <tr>\n",
       "      <th>4</th>\n",
       "      <td>6</td>\n",
       "      <td>Student</td>\n",
       "      <td>male</td>\n",
       "      <td>Pisces</td>\n",
       "      <td>34</td>\n",
       "      <td>1</td>\n",
       "      <td>7</td>\n",
       "      <td>Last night's dream is very blurry. The only de...</td>\n",
       "      <td>16</td>\n",
       "      <td>125684</td>\n",
       "      <td>189.854985</td>\n",
       "      <td>662</td>\n",
       "      <td>last night dream blurry the detail i remember ...</td>\n",
       "      <td>3821</td>\n",
       "      <td>10625</td>\n",
       "      <td>964</td>\n",
       "      <td>128</td>\n",
       "      <td>1.456193</td>\n",
       "      <td>5.771903</td>\n",
       "      <td>16.049849</td>\n",
       "    </tr>\n",
       "    <tr>\n",
       "      <th>5</th>\n",
       "      <td>7</td>\n",
       "      <td>indUnk</td>\n",
       "      <td>male</td>\n",
       "      <td>Cancer</td>\n",
       "      <td>39</td>\n",
       "      <td>1</td>\n",
       "      <td>2</td>\n",
       "      <td>June 21, 2004 SPAIN V PORTUGAL Good for Euro ...</td>\n",
       "      <td>25</td>\n",
       "      <td>704</td>\n",
       "      <td>234.666667</td>\n",
       "      <td>3</td>\n",
       "      <td>june spain v portugal good euro portugal the i...</td>\n",
       "      <td>15</td>\n",
       "      <td>33</td>\n",
       "      <td>8</td>\n",
       "      <td>0</td>\n",
       "      <td>2.666667</td>\n",
       "      <td>5.000000</td>\n",
       "      <td>11.000000</td>\n",
       "    </tr>\n",
       "    <tr>\n",
       "      <th>6</th>\n",
       "      <td>12</td>\n",
       "      <td>indUnk</td>\n",
       "      <td>male</td>\n",
       "      <td>Aries</td>\n",
       "      <td>39</td>\n",
       "      <td>1</td>\n",
       "      <td>1</td>\n",
       "      <td>Well, 1 day left... Less than 36 hours and I w...</td>\n",
       "      <td>23</td>\n",
       "      <td>2224</td>\n",
       "      <td>222.400000</td>\n",
       "      <td>10</td>\n",
       "      <td>well day left le hour i presence favorite band...</td>\n",
       "      <td>11</td>\n",
       "      <td>454</td>\n",
       "      <td>11</td>\n",
       "      <td>2</td>\n",
       "      <td>1.100000</td>\n",
       "      <td>1.100000</td>\n",
       "      <td>45.400000</td>\n",
       "    </tr>\n",
       "  </tbody>\n",
       "</table>\n",
       "</div>"
      ],
      "text/plain": [
       "   user.id       topic  gender         sign topic_cat gender_cat sign_cat  \\\n",
       "0        1      indUnk    male  Sagittarius        39          1        8   \n",
       "1        3      indUnk  female          Leo        39          0        5   \n",
       "2        4     Student    male     Aquarius        34          1        0   \n",
       "3        5  Accounting  female       Pisces         0          0        7   \n",
       "4        6     Student    male       Pisces        34          1        7   \n",
       "5        7      indUnk    male       Cancer        39          1        2   \n",
       "6       12      indUnk    male        Aries        39          1        1   \n",
       "\n",
       "                                                text  age  tot_word_count  \\\n",
       "0  Doritos Fuel of Space urlLink : Ian Myers NASA...   17            2384   \n",
       "1  Yeah, I set up this blog so Heather would be h...   16            1643   \n",
       "2  Not too much exciting has happened this weeken...   17             535   \n",
       "3  European Pilgrimage For High school Students o...   47            9931   \n",
       "4  Last night's dream is very blurry. The only de...   16          125684   \n",
       "5   June 21, 2004 SPAIN V PORTUGAL Good for Euro ...   25             704   \n",
       "6  Well, 1 day left... Less than 36 hours and I w...   23            2224   \n",
       "\n",
       "   avg_word_count  num_of_text  \\\n",
       "0       76.903226           31   \n",
       "1      205.375000            8   \n",
       "2      535.000000            1   \n",
       "3      451.409091           22   \n",
       "4      189.854985          662   \n",
       "5      234.666667            3   \n",
       "6      222.400000           10   \n",
       "\n",
       "                                      text_processed  specials   punc  \\\n",
       "0  doritos fuel space urllink ian myers nasa new ...        26    165   \n",
       "1  yeah i set blog heather would happyshe better ...        39    355   \n",
       "2  not much exciting happened weekend ive really ...         6     32   \n",
       "3  european pilgrimage for high school student st...       158    443   \n",
       "4  last night dream blurry the detail i remember ...      3821  10625   \n",
       "5  june spain v portugal good euro portugal the i...        15     33   \n",
       "6  well day left le hour i presence favorite band...        11    454   \n",
       "\n",
       "   numerics  count_slang  numerics_num_of_text  specials_num_of_text  \\\n",
       "0        14            1              0.451613              0.838710   \n",
       "1        14           31              1.750000              4.875000   \n",
       "2         5            0              5.000000              6.000000   \n",
       "3        67            1              3.045455              7.181818   \n",
       "4       964          128              1.456193              5.771903   \n",
       "5         8            0              2.666667              5.000000   \n",
       "6        11            2              1.100000              1.100000   \n",
       "\n",
       "   punc_num_of_text  \n",
       "0          5.322581  \n",
       "1         44.375000  \n",
       "2         32.000000  \n",
       "3         20.136364  \n",
       "4         16.049849  \n",
       "5         11.000000  \n",
       "6         45.400000  "
      ]
     },
     "execution_count": 97,
     "metadata": {},
     "output_type": "execute_result"
    }
   ],
   "source": [
    "final_df.head(7)"
   ]
  },
  {
   "cell_type": "markdown",
   "metadata": {},
   "source": [
    "# Extracting TF-IDF from the text data"
   ]
  },
  {
   "cell_type": "code",
   "execution_count": 98,
   "metadata": {},
   "outputs": [],
   "source": [
    "# extract tf_idf for 1000 words with highest tf-idf values across all documents\n",
    "# parameters: \n",
    "# min_df = 5 , ignore terms that appear in less than 5 documents\n",
    "# max_df = 0.5, ignore terms that appear in more than 50% of the documents\"\n",
    "vectorizer = TfidfVectorizer(min_df=5, max_features=1000)\n",
    "X_tfidf = vectorizer.fit_transform(final_df['text_processed']) "
   ]
  },
  {
   "cell_type": "code",
   "execution_count": 99,
   "metadata": {},
   "outputs": [],
   "source": [
    "X_tfidf = X_tfidf.todense()"
   ]
  },
  {
   "cell_type": "code",
   "execution_count": 100,
   "metadata": {},
   "outputs": [],
   "source": [
    "# extract the features created on the final training dataframe\n",
    "features_used = ['topic_cat', 'avg_word_count','num_of_text','count_slang']\n",
    "X_feature = final_df[features_used]\n",
    "# stack the tf-idf and other features together\n",
    "X = np.concatenate((X_tfidf,X_feature.values), axis=1)\n",
    "# get the outcome variable from the data frame\n",
    "y = final_df.age\n",
    "\n",
    "X.shape\n",
    "\n",
    "## K-Fold cross validation\n",
    "\n",
    "test_mse_avg_means = []\n",
    "test_mse_avg_stds = []\n",
    "test_mae_avg_means = []\n",
    "test_mae_avg_stds = []\n",
    "for i in range(1):\n",
    "    kf = KFold(n_splits=10, shuffle=True)\n",
    "\n",
    "    kfold_linreg = LinearRegression()\n",
    "    test_mse = []\n",
    "    test_mae = []\n",
    "\n",
    "    for train_index, test_index in kf.split(X):\n",
    "        X_train = X[train_index]\n",
    "        y_train = y[train_index]\n",
    "        X_test = X[test_index]\n",
    "        y_test = y[test_index]\n",
    "    \n",
    "        # train model\n",
    "        kfold_linreg.fit(X_train,y_train)\n",
    "    \n",
    "        y_pred = kfold_linreg.predict(X_test)\n",
    "    \n",
    "        mse = mean_squared_error(y_test,y_pred)\n",
    "        mae = mean_absolute_error(y_test, y_pred)\n",
    "        test_mse.append(mse)\n",
    "        test_mae.append(mae)\n",
    "\n",
    "    #test mae\n",
    "    std_test_mae = np.std(test_mae)\n",
    "    avg_test_mae = np.mean(test_mae)\n",
    "    test_mae_avg_means.append(avg_test_mae)\n",
    "    test_mae_avg_stds.append(std_test_mae)\n",
    "    \n",
    "    #test_mse\n",
    "    std_test_mse = np.std(test_mse)\n",
    "    avg_test_mse = np.mean(test_mse)\n",
    "    test_mse_avg_means.append(avg_test_mse)\n",
    "    test_mse_avg_stds.append(std_test_mse)"
   ]
  },
  {
   "cell_type": "code",
   "execution_count": 101,
   "metadata": {},
   "outputs": [
    {
     "name": "stdout",
     "output_type": "stream",
     "text": [
      "4.236558933313924\n",
      "0.12735133584297095\n",
      "32.31741508438814\n",
      "2.0104227095651552\n"
     ]
    }
   ],
   "source": [
    "print(np.mean(test_mae_avg_means))\n",
    "print(np.mean(test_mae_avg_stds))\n",
    "print(np.mean(test_mse_avg_means))\n",
    "print(np.mean(test_mse_avg_stds))"
   ]
  },
  {
   "cell_type": "markdown",
   "metadata": {},
   "source": [
    "## Checking different features"
   ]
  },
  {
   "cell_type": "code",
   "execution_count": 104,
   "metadata": {},
   "outputs": [
    {
     "data": {
      "image/png": "[encoded data removed]",
      "text/plain": [
       "<Figure size 432x288 with 1 Axes>"
      ]
     },
     "metadata": {},
     "output_type": "display_data"
    }
   ],
   "source": [
    "ax1 = final_df.plot.scatter(x='age',\n",
    "                       y='specials',\n",
    "                       c='DarkBlue')"
   ]
  },
  {
   "cell_type": "code",
   "execution_count": 105,
   "metadata": {},
   "outputs": [
    {
     "data": {
      "image/png": "[encoded data removed]",
      "text/plain": [
       "<Figure size 432x288 with 1 Axes>"
      ]
     },
     "metadata": {},
     "output_type": "display_data"
    }
   ],
   "source": [
    "ax2 = final_df.plot.scatter(x='age',\n",
    "                       y='specials_num_of_text',\n",
    "                       c='DarkBlue')"
   ]
  },
  {
   "cell_type": "code",
   "execution_count": 106,
   "metadata": {},
   "outputs": [
    {
     "data": {
      "image/png": "[encoded data removed]",
      "text/plain": [
       "<Figure size 432x288 with 1 Axes>"
      ]
     },
     "metadata": {},
     "output_type": "display_data"
    }
   ],
   "source": [
    "ax3 = final_df.plot.scatter(x='age',\n",
    "                       y='punc',\n",
    "                       c='DarkBlue')"
   ]
  },
  {
   "cell_type": "code",
   "execution_count": 107,
   "metadata": {},
   "outputs": [
    {
     "data": {
      "image/png": "[encoded data removed]",
      "text/plain": [
       "<Figure size 432x288 with 1 Axes>"
      ]
     },
     "metadata": {},
     "output_type": "display_data"
    }
   ],
   "source": [
    "ax4 = final_df.plot.scatter(x='age',\n",
    "                       y='punc_num_of_text',\n",
    "                       c='DarkBlue')"
   ]
  },
  {
   "cell_type": "code",
   "execution_count": 108,
   "metadata": {},
   "outputs": [
    {
     "data": {
      "image/png": "[encoded data removed]",
      "text/plain": [
       "<Figure size 432x288 with 1 Axes>"
      ]
     },
     "metadata": {},
     "output_type": "display_data"
    }
   ],
   "source": [
    "ax5 = final_df.plot.scatter(x='age',\n",
    "                       y='numerics',\n",
    "                       c='DarkBlue')"
   ]
  },
  {
   "cell_type": "code",
   "execution_count": 109,
   "metadata": {},
   "outputs": [
    {
     "data": {
      "image/png": "[encoded data removed]",
      "text/plain": [
       "<Figure size 432x288 with 1 Axes>"
      ]
     },
     "metadata": {},
     "output_type": "display_data"
    }
   ],
   "source": [
    "ax6 = final_df.plot.scatter(x='age',\n",
    "                       y='numerics_num_of_text',\n",
    "                       c='DarkBlue')"
   ]
  },
  {
   "cell_type": "code",
   "execution_count": 110,
   "metadata": {},
   "outputs": [
    {
     "data": {
      "image/png": "[encoded data removed]",
      "text/plain": [
       "<Figure size 432x288 with 1 Axes>"
      ]
     },
     "metadata": {},
     "output_type": "display_data"
    }
   ],
   "source": [
    "ax7 = final_df.plot.scatter(x='age',\n",
    "                       y='avg_word_count',\n",
    "                       c='DarkBlue')"
   ]
  },
  {
   "cell_type": "code",
   "execution_count": 111,
   "metadata": {},
   "outputs": [
    {
     "data": {
      "image/png": "[encoded data removed]",
      "text/plain": [
       "<Figure size 432x288 with 1 Axes>"
      ]
     },
     "metadata": {},
     "output_type": "display_data"
    }
   ],
   "source": [
    "ax8 = final_df.plot.scatter(x='age',\n",
    "                       y='num_of_text',\n",
    "                       c='DarkBlue')"
   ]
  },
  {
   "cell_type": "code",
   "execution_count": 112,
   "metadata": {},
   "outputs": [
    {
     "data": {
      "image/png": "[encoded data removed]",
      "text/plain": [
       "<Figure size 432x288 with 1 Axes>"
      ]
     },
     "metadata": {},
     "output_type": "display_data"
    }
   ],
   "source": [
    "ax9 = final_df.plot.scatter(x='age',\n",
    "                       y='count_slang',\n",
    "                       c='DarkBlue')"
   ]
  },
  {
   "cell_type": "code",
   "execution_count": 113,
   "metadata": {},
   "outputs": [
    {
     "data": {
      "text/plain": [
       "(12880, 1007)"
      ]
     },
     "execution_count": 113,
     "metadata": {},
     "output_type": "execute_result"
    }
   ],
   "source": [
    "# extract the features created on the final training dataframe\n",
    "features_used = ['topic_cat', 'avg_word_count','num_of_text','count_slang', 'numerics_num_of_text','punc_num_of_text','specials_num_of_text']\n",
    "X_feature = final_df[features_used]\n",
    "# stack the tf-idf and other features together\n",
    "X = np.concatenate((X_tfidf,X_feature.values), axis=1)\n",
    "# get the outcome variable from the data frame\n",
    "y = final_df.age\n",
    "\n",
    "X.shape"
   ]
  },
  {
   "cell_type": "code",
   "execution_count": 114,
   "metadata": {},
   "outputs": [],
   "source": [
    "## K-Fold cross validation\n",
    "\n",
    "test_mse_avg_means = []\n",
    "test_mse_avg_stds = []\n",
    "test_mae_avg_means = []\n",
    "test_mae_avg_stds = []\n",
    "for i in range(1):\n",
    "    kf = KFold(n_splits=10)\n",
    "\n",
    "    kfold_linreg = LinearRegression(normalize=True)\n",
    "    test_mse = []\n",
    "    test_mae = []\n",
    "\n",
    "    for train_index, test_index in kf.split(X):\n",
    "        X_train = X[train_index]\n",
    "        y_train = y[train_index]\n",
    "        X_test = X[test_index]\n",
    "        y_test = y[test_index]\n",
    "    \n",
    "        # train model\n",
    "        kfold_linreg.fit(X_train,y_train)\n",
    "    \n",
    "        y_pred = kfold_linreg.predict(X_test)\n",
    "    \n",
    "        mse = mean_squared_error(y_test,y_pred)\n",
    "        mae = mean_absolute_error(y_test, y_pred)\n",
    "        test_mse.append(mse)\n",
    "        test_mae.append(mae)\n",
    "\n",
    "    #test mae\n",
    "    std_test_mae = np.std(test_mae)\n",
    "    avg_test_mae = np.mean(test_mae)\n",
    "    test_mae_avg_means.append(avg_test_mae)\n",
    "    test_mae_avg_stds.append(std_test_mae)\n",
    "    \n",
    "    #test_mse\n",
    "    std_test_mse = np.std(test_mse)\n",
    "    avg_test_mse = np.mean(test_mse)\n",
    "    test_mse_avg_means.append(avg_test_mse)\n",
    "    test_mse_avg_stds.append(std_test_mse)"
   ]
  },
  {
   "cell_type": "code",
   "execution_count": 115,
   "metadata": {},
   "outputs": [
    {
     "name": "stdout",
     "output_type": "stream",
     "text": [
      "4.226358552245648\n",
      "0.1106721242874888\n",
      "32.261049577971896\n",
      "2.067344554103002\n"
     ]
    }
   ],
   "source": [
    "print(np.mean(test_mae_avg_means))\n",
    "print(np.mean(test_mae_avg_stds))\n",
    "print(np.mean(test_mse_avg_means))\n",
    "print(np.mean(test_mse_avg_stds))"
   ]
  },
  {
   "cell_type": "code",
   "execution_count": 116,
   "metadata": {},
   "outputs": [
    {
     "name": "stdout",
     "output_type": "stream",
     "text": [
      "4.226358552245648\n",
      "0.1106721242874888\n",
      "32.261049577971896\n",
      "2.067344554103002\n"
     ]
    }
   ],
   "source": [
    "print(np.mean(test_mae_avg_means))\n",
    "print(np.mean(test_mae_avg_stds))\n",
    "print(np.mean(test_mse_avg_means))\n",
    "print(np.mean(test_mse_avg_stds))"
   ]
  },
  {
   "cell_type": "markdown",
   "metadata": {},
   "source": [
    "## Making the model"
   ]
  },
  {
   "cell_type": "code",
   "execution_count": 117,
   "metadata": {},
   "outputs": [],
   "source": [
    "# split the data into 80 percent train and 20 percent test\n",
    "X_train, X_test, y_train, y_test = train_test_split(X, y, test_size=0.20, random_state=4200)"
   ]
  },
  {
   "cell_type": "code",
   "execution_count": 118,
   "metadata": {},
   "outputs": [
    {
     "data": {
      "text/plain": [
       "LinearRegression(copy_X=True, fit_intercept=True, n_jobs=1, normalize=False)"
      ]
     },
     "execution_count": 118,
     "metadata": {},
     "output_type": "execute_result"
    }
   ],
   "source": [
    "# make a linear regression model\n",
    "linreg = LinearRegression()\n",
    "\n",
    "linreg.fit(X, y)"
   ]
  },
  {
   "cell_type": "code",
   "execution_count": 119,
   "metadata": {},
   "outputs": [
    {
     "name": "stdout",
     "output_type": "stream",
     "text": [
      "<class 'pandas.core.frame.DataFrame'>\n",
      "RangeIndex: 12880 entries, 0 to 12879\n",
      "Data columns (total 20 columns):\n",
      "user.id                 12880 non-null int64\n",
      "topic                   12880 non-null object\n",
      "gender                  12880 non-null object\n",
      "sign                    12880 non-null object\n",
      "topic_cat               12880 non-null category\n",
      "gender_cat              12880 non-null category\n",
      "sign_cat                12880 non-null category\n",
      "text                    12880 non-null object\n",
      "age                     12880 non-null int64\n",
      "tot_word_count          12880 non-null int64\n",
      "avg_word_count          12880 non-null float64\n",
      "num_of_text             12880 non-null int64\n",
      "text_processed          12880 non-null object\n",
      "specials                12880 non-null int64\n",
      "punc                    12880 non-null int64\n",
      "numerics                12880 non-null int64\n",
      "count_slang             12880 non-null int64\n",
      "numerics_num_of_text    12880 non-null float64\n",
      "specials_num_of_text    12880 non-null float64\n",
      "punc_num_of_text        12880 non-null float64\n",
      "dtypes: category(3), float64(4), int64(8), object(5)\n",
      "memory usage: 1.7+ MB\n"
     ]
    }
   ],
   "source": [
    "final_df.info()"
   ]
  },
  {
   "cell_type": "code",
   "execution_count": 120,
   "metadata": {},
   "outputs": [
    {
     "name": "stdout",
     "output_type": "stream",
     "text": [
      "<class 'pandas.core.frame.DataFrame'>\n",
      "RangeIndex: 12880 entries, 0 to 12879\n",
      "Data columns (total 20 columns):\n",
      "user.id                 12880 non-null int64\n",
      "topic                   12880 non-null object\n",
      "gender                  12880 non-null object\n",
      "sign                    12880 non-null object\n",
      "topic_cat               12880 non-null category\n",
      "gender_cat              12880 non-null category\n",
      "sign_cat                12880 non-null category\n",
      "text                    12880 non-null object\n",
      "age                     12880 non-null int64\n",
      "tot_word_count          12880 non-null int64\n",
      "avg_word_count          12880 non-null float64\n",
      "num_of_text             12880 non-null int64\n",
      "text_processed          12880 non-null object\n",
      "specials                12880 non-null int64\n",
      "punc                    12880 non-null int64\n",
      "numerics                12880 non-null int64\n",
      "count_slang             12880 non-null int64\n",
      "numerics_num_of_text    12880 non-null float64\n",
      "specials_num_of_text    12880 non-null float64\n",
      "punc_num_of_text        12880 non-null float64\n",
      "dtypes: category(3), float64(4), int64(8), object(5)\n",
      "memory usage: 1.7+ MB\n"
     ]
    }
   ],
   "source": [
    "final_df.info()"
   ]
  },
  {
   "cell_type": "code",
   "execution_count": 121,
   "metadata": {},
   "outputs": [
    {
     "data": {
      "text/plain": [
       "32.261049577971896"
      ]
     },
     "execution_count": 121,
     "metadata": {},
     "output_type": "execute_result"
    }
   ],
   "source": [
    "avg_test_mse = np.mean(test_mse)\n",
    "avg_test_mse"
   ]
  },
  {
   "cell_type": "markdown",
   "metadata": {},
   "source": [
    "## Making predictions"
   ]
  },
  {
   "cell_type": "code",
   "execution_count": 122,
   "metadata": {},
   "outputs": [],
   "source": [
    "remove_spaces_from_text_col(test)\n",
    "cat, text = group_by_user_id_col(test)\n",
    "tot_word_count, avg_word_count, num_of_text = feature_creation(test)\n",
    "test_df = create_final_df([cat, text, tot_word_count, avg_word_count, num_of_text])"
   ]
  },
  {
   "cell_type": "code",
   "execution_count": 123,
   "metadata": {},
   "outputs": [],
   "source": [
    "test_df = text_processing(test_df)"
   ]
  },
  {
   "cell_type": "code",
   "execution_count": 124,
   "metadata": {},
   "outputs": [],
   "source": [
    "test_df[\"gender_cat\"] = test_df[\"gender_cat\"].astype('category')\n",
    "test_df[\"topic_cat\"] = test_df[\"topic_cat\"].astype('category')\n",
    "test_df[\"sign_cat\"] = test_df[\"sign_cat\"].astype('category')"
   ]
  },
  {
   "cell_type": "code",
   "execution_count": 125,
   "metadata": {},
   "outputs": [
    {
     "data": {
      "text/html": [
       "<div>\n",
       "<style scoped>\n",
       "    .dataframe tbody tr th:only-of-type {\n",
       "        vertical-align: middle;\n",
       "    }\n",
       "\n",
       "    .dataframe tbody tr th {\n",
       "        vertical-align: top;\n",
       "    }\n",
       "\n",
       "    .dataframe thead th {\n",
       "        text-align: right;\n",
       "    }\n",
       "</style>\n",
       "<table border=\"1\" class=\"dataframe\">\n",
       "  <thead>\n",
       "    <tr style=\"text-align: right;\">\n",
       "      <th></th>\n",
       "      <th>user.id</th>\n",
       "      <th>topic</th>\n",
       "      <th>gender</th>\n",
       "      <th>sign</th>\n",
       "      <th>topic_cat</th>\n",
       "      <th>gender_cat</th>\n",
       "      <th>sign_cat</th>\n",
       "      <th>text</th>\n",
       "      <th>tot_word_count</th>\n",
       "      <th>avg_word_count</th>\n",
       "      <th>num_of_text</th>\n",
       "      <th>text_processed</th>\n",
       "      <th>specials</th>\n",
       "      <th>punc</th>\n",
       "      <th>numerics</th>\n",
       "      <th>count_slang</th>\n",
       "      <th>numerics_num_of_text</th>\n",
       "      <th>specials_num_of_text</th>\n",
       "      <th>punc_num_of_text</th>\n",
       "    </tr>\n",
       "  </thead>\n",
       "  <tbody>\n",
       "    <tr>\n",
       "      <th>0</th>\n",
       "      <td>2</td>\n",
       "      <td>Military</td>\n",
       "      <td>male</td>\n",
       "      <td>Taurus</td>\n",
       "      <td>26</td>\n",
       "      <td>1</td>\n",
       "      <td>10</td>\n",
       "      <td>I finally saw Nathan's tattoo tonight. I like ...</td>\n",
       "      <td>833</td>\n",
       "      <td>119.000000</td>\n",
       "      <td>7</td>\n",
       "      <td>i finally saw nathans tattoo tonight i like it...</td>\n",
       "      <td>1</td>\n",
       "      <td>60</td>\n",
       "      <td>6</td>\n",
       "      <td>0</td>\n",
       "      <td>0.857143</td>\n",
       "      <td>0.142857</td>\n",
       "      <td>8.571429</td>\n",
       "    </tr>\n",
       "    <tr>\n",
       "      <th>1</th>\n",
       "      <td>8</td>\n",
       "      <td>indUnk</td>\n",
       "      <td>male</td>\n",
       "      <td>Aquarius</td>\n",
       "      <td>39</td>\n",
       "      <td>1</td>\n",
       "      <td>0</td>\n",
       "      <td>Today was the last day and the shortest. We ha...</td>\n",
       "      <td>11790</td>\n",
       "      <td>170.869565</td>\n",
       "      <td>69</td>\n",
       "      <td>today last day shortest we one session lasted ...</td>\n",
       "      <td>205</td>\n",
       "      <td>625</td>\n",
       "      <td>147</td>\n",
       "      <td>0</td>\n",
       "      <td>2.130435</td>\n",
       "      <td>2.971014</td>\n",
       "      <td>9.057971</td>\n",
       "    </tr>\n",
       "  </tbody>\n",
       "</table>\n",
       "</div>"
      ],
      "text/plain": [
       "   user.id     topic gender      sign topic_cat gender_cat sign_cat  \\\n",
       "0        2  Military   male    Taurus        26          1       10   \n",
       "1        8    indUnk   male  Aquarius        39          1        0   \n",
       "\n",
       "                                                text  tot_word_count  \\\n",
       "0  I finally saw Nathan's tattoo tonight. I like ...             833   \n",
       "1  Today was the last day and the shortest. We ha...           11790   \n",
       "\n",
       "   avg_word_count  num_of_text  \\\n",
       "0      119.000000            7   \n",
       "1      170.869565           69   \n",
       "\n",
       "                                      text_processed  specials  punc  \\\n",
       "0  i finally saw nathans tattoo tonight i like it...         1    60   \n",
       "1  today last day shortest we one session lasted ...       205   625   \n",
       "\n",
       "   numerics  count_slang  numerics_num_of_text  specials_num_of_text  \\\n",
       "0         6            0              0.857143              0.142857   \n",
       "1       147            0              2.130435              2.971014   \n",
       "\n",
       "   punc_num_of_text  \n",
       "0          8.571429  \n",
       "1          9.057971  "
      ]
     },
     "execution_count": 125,
     "metadata": {},
     "output_type": "execute_result"
    }
   ],
   "source": [
    "test_df['count_slang'] = test_df.text_processed.str.count('lol|tbt|smh|tbh|lel|lmao|omg|wtf|ikr')\n",
    "test_df['numerics_num_of_text'] = test_df['numerics']/test_df['num_of_text']\n",
    "test_df['specials_num_of_text'] = test_df['specials']/test_df['num_of_text']\n",
    "test_df['punc_num_of_text'] = test_df['punc']/test_df['num_of_text']\n",
    "test_df.head(2)"
   ]
  },
  {
   "cell_type": "code",
   "execution_count": 126,
   "metadata": {},
   "outputs": [
    {
     "data": {
      "text/plain": [
       "['topic_cat',\n",
       " 'avg_word_count',\n",
       " 'num_of_text',\n",
       " 'count_slang',\n",
       " 'numerics_num_of_text',\n",
       " 'punc_num_of_text',\n",
       " 'specials_num_of_text']"
      ]
     },
     "execution_count": 126,
     "metadata": {},
     "output_type": "execute_result"
    }
   ],
   "source": [
    "features_used"
   ]
  },
  {
   "cell_type": "code",
   "execution_count": 127,
   "metadata": {},
   "outputs": [],
   "source": [
    "# get the tf-idf of the same vocabulary of words learnt while fitting\n",
    "X_test = vectorizer.transform(test_df['text_processed'])\n",
    "X_test = X_test.todense()\n",
    "# get the same feature from the test data as from the train data set\n",
    "X_test_cat = test_df[features_used]\n",
    "# stack the tf-idf and extracted features together\n",
    "X_test_mat = np.concatenate((X_test,X_test_cat.values), axis=1)"
   ]
  },
  {
   "cell_type": "code",
   "execution_count": 128,
   "metadata": {},
   "outputs": [
    {
     "data": {
      "text/plain": [
       "(6440, 1007)"
      ]
     },
     "execution_count": 128,
     "metadata": {},
     "output_type": "execute_result"
    }
   ],
   "source": [
    "X_test_mat.shape"
   ]
  },
  {
   "cell_type": "code",
   "execution_count": 129,
   "metadata": {},
   "outputs": [],
   "source": [
    "# predict on the test data\n",
    "y_pred_test = linreg.predict(X_test_mat)"
   ]
  },
  {
   "cell_type": "code",
   "execution_count": 130,
   "metadata": {},
   "outputs": [],
   "source": [
    "# write predictions to file\n",
    "y_pred_test = pd.Series(y_pred_test)\n",
    "predictions = pd.concat([test_df['user.id'], y_pred_test], axis=1)\n",
    "predictions.columns = ['user.id','age']\n",
    "predictions.age = np.floor(predictions.age)\n",
    "predictions.to_csv('./predictions_text_test.csv', index=False)"
   ]
  },
  {
   "cell_type": "code",
   "execution_count": null,
   "metadata": {},
   "outputs": [],
   "source": []
  }
 ],
 "metadata": {
  "kernelspec": {
   "display_name": "Python 3",
   "language": "python",
   "name": "python3"
  },
  "language_info": {
   "codemirror_mode": {
    "name": "ipython",
    "version": 3
   },
   "file_extension": ".py",
   "mimetype": "text/x-python",
   "name": "python",
   "nbconvert_exporter": "python",
   "pygments_lexer": "ipython3",
   "version": "3.6.5"
  }
 },
 "nbformat": 4,
 "nbformat_minor": 2
}
